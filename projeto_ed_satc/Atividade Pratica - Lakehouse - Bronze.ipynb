{
 "cells": [
  {
   "cell_type": "markdown",
   "metadata": {
    "application/vnd.databricks.v1+cell": {
     "cellMetadata": {
      "byteLimit": 2048000,
      "rowLimit": 10000
     },
     "inputWidgets": {},
     "nuid": "bb012007-ab33-41c9-96fe-0d8d29fce69d",
     "showTitle": false,
     "tableResultSettingsMap": {},
     "title": ""
    }
   },
   "source": [
    "##Validando a SparkSession"
   ]
  },
  {
   "cell_type": "code",
   "execution_count": 0,
   "metadata": {
    "application/vnd.databricks.v1+cell": {
     "cellMetadata": {
      "byteLimit": 2048000,
      "rowLimit": 10000
     },
     "inputWidgets": {},
     "nuid": "9f47e85e-40ed-4af3-8f0a-62d799379710",
     "showTitle": false,
     "tableResultSettingsMap": {},
     "title": ""
    }
   },
   "outputs": [
    {
     "output_type": "display_data",
     "data": {
      "text/html": [
       "\n",
       "            <div>\n",
       "                <p><b>SparkSession - hive</b></p>\n",
       "                \n",
       "        <div>\n",
       "            <p><b>SparkContext</b></p>\n",
       "\n",
       "            <p><a href=\"/?o=690697175050107#setting/sparkui/0607-014224-e1yhbh5y/driver-5642451572268299525\">Spark UI</a></p>\n",
       "\n",
       "            <dl>\n",
       "              <dt>Version</dt>\n",
       "                <dd><code>v3.3.2</code></dd>\n",
       "              <dt>Master</dt>\n",
       "                <dd><code>local[8]</code></dd>\n",
       "              <dt>AppName</dt>\n",
       "                <dd><code>Databricks Shell</code></dd>\n",
       "            </dl>\n",
       "        </div>\n",
       "        \n",
       "            </div>\n",
       "        "
      ]
     },
     "metadata": {
      "application/vnd.databricks.v1+output": {
       "addedWidgets": {},
       "arguments": {},
       "data": "\n            <div>\n                <p><b>SparkSession - hive</b></p>\n                \n        <div>\n            <p><b>SparkContext</b></p>\n\n            <p><a href=\"/?o=690697175050107#setting/sparkui/0607-014224-e1yhbh5y/driver-5642451572268299525\">Spark UI</a></p>\n\n            <dl>\n              <dt>Version</dt>\n                <dd><code>v3.3.2</code></dd>\n              <dt>Master</dt>\n                <dd><code>local[8]</code></dd>\n              <dt>AppName</dt>\n                <dd><code>Databricks Shell</code></dd>\n            </dl>\n        </div>\n        \n            </div>\n        ",
       "datasetInfos": [],
       "metadata": {},
       "removedWidgets": [],
       "textData": null,
       "type": "htmlSandbox"
      }
     },
     "output_type": "display_data"
    }
   ],
   "source": [
    "spark"
   ]
  },
  {
   "cell_type": "markdown",
   "metadata": {
    "application/vnd.databricks.v1+cell": {
     "cellMetadata": {
      "byteLimit": 2048000,
      "rowLimit": 10000
     },
     "inputWidgets": {},
     "nuid": "2b235b0d-5e6d-41fd-b9ed-fc9a2367efa6",
     "showTitle": false,
     "tableResultSettingsMap": {},
     "title": ""
    }
   },
   "source": [
    "##Conectando Azure ADLS Gen2 no Databricks"
   ]
  },
  {
   "cell_type": "markdown",
   "metadata": {
    "application/vnd.databricks.v1+cell": {
     "cellMetadata": {
      "byteLimit": 2048000,
      "rowLimit": 10000
     },
     "inputWidgets": {},
     "nuid": "61839b6f-63e3-4a67-ab56-3e2678ebe19c",
     "showTitle": false,
     "tableResultSettingsMap": {},
     "title": ""
    }
   },
   "source": [
    "###Mostrando os pontos de montagem no cluster Databricks"
   ]
  },
  {
   "cell_type": "code",
   "execution_count": 0,
   "metadata": {
    "application/vnd.databricks.v1+cell": {
     "cellMetadata": {
      "byteLimit": 2048000,
      "rowLimit": 10000
     },
     "inputWidgets": {},
     "nuid": "996be72e-0fb9-4953-bc2c-7b1b605cdf8e",
     "showTitle": false,
     "tableResultSettingsMap": {},
     "title": ""
    }
   },
   "outputs": [
    {
     "output_type": "display_data",
     "data": {
      "text/html": [
       "<style scoped>\n",
       "  .table-result-container {\n",
       "    max-height: 300px;\n",
       "    overflow: auto;\n",
       "  }\n",
       "  table, th, td {\n",
       "    border: 1px solid black;\n",
       "    border-collapse: collapse;\n",
       "  }\n",
       "  th, td {\n",
       "    padding: 5px;\n",
       "  }\n",
       "  th {\n",
       "    text-align: left;\n",
       "  }\n",
       "</style><div class='table-result-container'><table class='table-result'><thead style='background-color: white'><tr><th>mountPoint</th><th>source</th><th>encryptionType</th></tr></thead><tbody><tr><td>/mnt/datalake6d3129a9a4390b0a/gold</td><td>wasbs://gold@datalake6d3129a9a4390b0a.blob.core.windows.net</td><td></td></tr><tr><td>/mnt/datalakeedda2e0be8d3ec5f/bronze</td><td>wasbs://bronze@datalakeedda2e0be8d3ec5f.blob.core.windows.net</td><td></td></tr><tr><td>/mnt/datalake246d728b13561613/lading-zone</td><td>wasbs://lading-zone@datalake246d728b13561613.blob.core.windows.net</td><td></td></tr><tr><td>/mnt/datalake4b6c87c48101c278/bronze</td><td>wasbs://bronze@datalake4b6c87c48101c278.blob.core.windows.net</td><td></td></tr><tr><td>/databricks-datasets</td><td>databricks-datasets</td><td></td></tr><tr><td>/mnt/datalake246d728b13561613/bronze</td><td>wasbs://bronze@datalake246d728b13561613.blob.core.windows.net</td><td></td></tr><tr><td>/mnt/datalakee66472c14f9678fd/landing-zone</td><td>wasbs://landing-zone@datalakee66472c14f9678fd.blob.core.windows.net</td><td></td></tr><tr><td>/databricks/mlflow-tracking</td><td>databricks/mlflow-tracking</td><td>sse-s3</td></tr><tr><td>/mnt/datalakeedda2e0be8d3ec5f/landing-zone</td><td>wasbs://landing-zone@datalakeedda2e0be8d3ec5f.blob.core.windows.net</td><td></td></tr><tr><td>/databricks-results</td><td>databricks-results</td><td>sse-s3</td></tr><tr><td>/mnt/datalake246d728b13561613/silver</td><td>wasbs://silver@datalake246d728b13561613.blob.core.windows.net</td><td></td></tr><tr><td>/mnt/datalakee66472c14f9678fd/gold</td><td>wasbs://gold@datalakee66472c14f9678fd.blob.core.windows.net</td><td></td></tr><tr><td>/mnt/datalakee66472c14f9678fd/silver</td><td>wasbs://silver@datalakee66472c14f9678fd.blob.core.windows.net</td><td></td></tr><tr><td>/databricks/mlflow-registry</td><td>databricks/mlflow-registry</td><td>sse-s3</td></tr><tr><td>/mnt/datalake6d3129a9a4390b0a/silver</td><td>wasbs://silver@datalake6d3129a9a4390b0a.blob.core.windows.net</td><td></td></tr><tr><td>/mnt/datalake246d728b13561613/gold</td><td>wasbs://gold@datalake246d728b13561613.blob.core.windows.net</td><td></td></tr><tr><td>/mnt/datalake246d728b13561613/landing-zone</td><td>wasbs://landing-zone@datalake246d728b13561613.blob.core.windows.net</td><td></td></tr><tr><td>/mnt/datalakeedda2e0be8d3ec5f/gold</td><td>wasbs://gold@datalakeedda2e0be8d3ec5f.blob.core.windows.net</td><td></td></tr><tr><td>/mnt/datalakeedda2e0be8d3ec5f/lading-zone</td><td>wasbs://lading-zone@datalakeedda2e0be8d3ec5f.blob.core.windows.net</td><td></td></tr><tr><td>/mnt/datalakee66472c14f9678fd/lading-zone</td><td>wasbs://lading-zone@datalakee66472c14f9678fd.blob.core.windows.net</td><td></td></tr><tr><td>/mnt/datalake6d3129a9a4390b0a/bronze</td><td>wasbs://bronze@datalake6d3129a9a4390b0a.blob.core.windows.net</td><td></td></tr><tr><td>/mnt/datalakeedda2e0be8d3ec5f/silver</td><td>wasbs://silver@datalakeedda2e0be8d3ec5f.blob.core.windows.net</td><td></td></tr><tr><td>/mnt/datalake6d3129a9a4390b0a/landing-zone</td><td>wasbs://landing-zone@datalake6d3129a9a4390b0a.blob.core.windows.net</td><td></td></tr><tr><td>/mnt/datalake4b6c87c48101c278/landing-zone</td><td>wasbs://landing-zone@datalake4b6c87c48101c278.blob.core.windows.net</td><td></td></tr><tr><td>/</td><td>DatabricksRoot</td><td>sse-s3</td></tr><tr><td>/mnt/datalake6d3129a9a4390b0a/lading-zone</td><td>wasbs://lading-zone@datalake6d3129a9a4390b0a.blob.core.windows.net</td><td></td></tr><tr><td>/mnt/datalakee66472c14f9678fd/bronze</td><td>wasbs://bronze@datalakee66472c14f9678fd.blob.core.windows.net</td><td></td></tr></tbody></table></div>"
      ]
     },
     "metadata": {
      "application/vnd.databricks.v1+output": {
       "addedWidgets": {},
       "aggData": [],
       "aggError": "",
       "aggOverflow": false,
       "aggSchema": [],
       "aggSeriesLimitReached": false,
       "aggType": "",
       "arguments": {},
       "columnCustomDisplayInfos": {},
       "data": [
        [
         "/mnt/datalake6d3129a9a4390b0a/gold",
         "wasbs://gold@datalake6d3129a9a4390b0a.blob.core.windows.net",
         ""
        ],
        [
         "/mnt/datalakeedda2e0be8d3ec5f/bronze",
         "wasbs://bronze@datalakeedda2e0be8d3ec5f.blob.core.windows.net",
         ""
        ],
        [
         "/mnt/datalake246d728b13561613/lading-zone",
         "wasbs://lading-zone@datalake246d728b13561613.blob.core.windows.net",
         ""
        ],
        [
         "/mnt/datalake4b6c87c48101c278/bronze",
         "wasbs://bronze@datalake4b6c87c48101c278.blob.core.windows.net",
         ""
        ],
        [
         "/databricks-datasets",
         "databricks-datasets",
         ""
        ],
        [
         "/mnt/datalake246d728b13561613/bronze",
         "wasbs://bronze@datalake246d728b13561613.blob.core.windows.net",
         ""
        ],
        [
         "/mnt/datalakee66472c14f9678fd/landing-zone",
         "wasbs://landing-zone@datalakee66472c14f9678fd.blob.core.windows.net",
         ""
        ],
        [
         "/databricks/mlflow-tracking",
         "databricks/mlflow-tracking",
         "sse-s3"
        ],
        [
         "/mnt/datalakeedda2e0be8d3ec5f/landing-zone",
         "wasbs://landing-zone@datalakeedda2e0be8d3ec5f.blob.core.windows.net",
         ""
        ],
        [
         "/databricks-results",
         "databricks-results",
         "sse-s3"
        ],
        [
         "/mnt/datalake246d728b13561613/silver",
         "wasbs://silver@datalake246d728b13561613.blob.core.windows.net",
         ""
        ],
        [
         "/mnt/datalakee66472c14f9678fd/gold",
         "wasbs://gold@datalakee66472c14f9678fd.blob.core.windows.net",
         ""
        ],
        [
         "/mnt/datalakee66472c14f9678fd/silver",
         "wasbs://silver@datalakee66472c14f9678fd.blob.core.windows.net",
         ""
        ],
        [
         "/databricks/mlflow-registry",
         "databricks/mlflow-registry",
         "sse-s3"
        ],
        [
         "/mnt/datalake6d3129a9a4390b0a/silver",
         "wasbs://silver@datalake6d3129a9a4390b0a.blob.core.windows.net",
         ""
        ],
        [
         "/mnt/datalake246d728b13561613/gold",
         "wasbs://gold@datalake246d728b13561613.blob.core.windows.net",
         ""
        ],
        [
         "/mnt/datalake246d728b13561613/landing-zone",
         "wasbs://landing-zone@datalake246d728b13561613.blob.core.windows.net",
         ""
        ],
        [
         "/mnt/datalakeedda2e0be8d3ec5f/gold",
         "wasbs://gold@datalakeedda2e0be8d3ec5f.blob.core.windows.net",
         ""
        ],
        [
         "/mnt/datalakeedda2e0be8d3ec5f/lading-zone",
         "wasbs://lading-zone@datalakeedda2e0be8d3ec5f.blob.core.windows.net",
         ""
        ],
        [
         "/mnt/datalakee66472c14f9678fd/lading-zone",
         "wasbs://lading-zone@datalakee66472c14f9678fd.blob.core.windows.net",
         ""
        ],
        [
         "/mnt/datalake6d3129a9a4390b0a/bronze",
         "wasbs://bronze@datalake6d3129a9a4390b0a.blob.core.windows.net",
         ""
        ],
        [
         "/mnt/datalakeedda2e0be8d3ec5f/silver",
         "wasbs://silver@datalakeedda2e0be8d3ec5f.blob.core.windows.net",
         ""
        ],
        [
         "/mnt/datalake6d3129a9a4390b0a/landing-zone",
         "wasbs://landing-zone@datalake6d3129a9a4390b0a.blob.core.windows.net",
         ""
        ],
        [
         "/mnt/datalake4b6c87c48101c278/landing-zone",
         "wasbs://landing-zone@datalake4b6c87c48101c278.blob.core.windows.net",
         ""
        ],
        [
         "/",
         "DatabricksRoot",
         "sse-s3"
        ],
        [
         "/mnt/datalake6d3129a9a4390b0a/lading-zone",
         "wasbs://lading-zone@datalake6d3129a9a4390b0a.blob.core.windows.net",
         ""
        ],
        [
         "/mnt/datalakee66472c14f9678fd/bronze",
         "wasbs://bronze@datalakee66472c14f9678fd.blob.core.windows.net",
         ""
        ]
       ],
       "datasetInfos": [],
       "dbfsResultPath": null,
       "isJsonSchema": true,
       "metadata": {},
       "overflow": false,
       "plotOptions": {
        "customPlotOptions": {},
        "displayType": "table",
        "pivotAggregation": null,
        "pivotColumns": null,
        "xColumns": null,
        "yColumns": null
       },
       "removedWidgets": [],
       "schema": [
        {
         "metadata": "{}",
         "name": "mountPoint",
         "type": "\"string\""
        },
        {
         "metadata": "{}",
         "name": "source",
         "type": "\"string\""
        },
        {
         "metadata": "{}",
         "name": "encryptionType",
         "type": "\"string\""
        }
       ],
       "type": "table"
      }
     },
     "output_type": "display_data"
    }
   ],
   "source": [
    "display(dbutils.fs.mounts())"
   ]
  },
  {
   "cell_type": "markdown",
   "metadata": {
    "application/vnd.databricks.v1+cell": {
     "cellMetadata": {
      "byteLimit": 2048000,
      "rowLimit": 10000
     },
     "inputWidgets": {},
     "nuid": "c5da882a-1966-4a71-bb6f-58863fa2e301",
     "showTitle": false,
     "tableResultSettingsMap": {},
     "title": ""
    }
   },
   "source": [
    "###Desmontando os pontos de montagem não utilizados"
   ]
  },
  {
   "cell_type": "code",
   "execution_count": 0,
   "metadata": {
    "application/vnd.databricks.v1+cell": {
     "cellMetadata": {
      "byteLimit": 2048000,
      "rowLimit": 10000
     },
     "inputWidgets": {},
     "nuid": "c2bea950-5918-46f5-a6a1-b0bcb0dfd338",
     "showTitle": false,
     "tableResultSettingsMap": {},
     "title": ""
    }
   },
   "outputs": [],
   "source": [
    "#dbutils.fs.unmount('/mnt/datalake37e6a883b8e661af/lading-zone')\n",
    "#dbutils.fs.unmount('/mnt/datalaked10514ad1cefdbcd/bronze')\n",
    "#dbutils.fs.unmount('/mnt/datalaked10514ad1cefdbcd/silver')\n",
    "#dbutils.fs.unmount('/mnt/datalaked10514ad1cefdbcd/gold')"
   ]
  },
  {
   "cell_type": "markdown",
   "metadata": {
    "application/vnd.databricks.v1+cell": {
     "cellMetadata": {
      "byteLimit": 2048000,
      "rowLimit": 10000
     },
     "inputWidgets": {},
     "nuid": "1e233d75-fd2d-442a-a085-bb59f3edf995",
     "showTitle": false,
     "tableResultSettingsMap": {},
     "title": ""
    }
   },
   "source": [
    "### Definindo uma função para montar um ADLS com um ponto de montagem com ADLS SAS "
   ]
  },
  {
   "cell_type": "code",
   "execution_count": 0,
   "metadata": {
    "application/vnd.databricks.v1+cell": {
     "cellMetadata": {
      "byteLimit": 2048000,
      "rowLimit": 10000
     },
     "inputWidgets": {},
     "nuid": "058a3cc4-370c-4abf-8c60-39a7f3f302d1",
     "showTitle": false,
     "tableResultSettingsMap": {},
     "title": ""
    }
   },
   "outputs": [],
   "source": [
    "storageAccountName = \"datalake4b6c87c48101c278\"\n",
    "storageAccountAccessKey = \"\"\n",
    "sasToken = \"sv=2024-11-04&ss=bfqt&srt=sco&sp=rwdlacupyx&se=2025-06-07T12:17:21Z&st=2025-06-07T04:17:21Z&spr=https&sig=BfwzYwM%2B5YR%2FBkSSyRv0Nn%2F3riHK9Wx4P%2FQoguM%2BA%2FM%3D\"\n",
    "\n",
    "def mount_adls(blobContainerName):\n",
    "    try:\n",
    "      dbutils.fs.mount(\n",
    "        source = \"wasbs://{}@{}.blob.core.windows.net\".format(blobContainerName, storageAccountName),\n",
    "        mount_point = f\"/mnt/{storageAccountName}/{blobContainerName}\",\n",
    "        #extra_configs = {'fs.azure.account.key.' + storageAccountName + '.blob.core.windows.net': storageAccountAccessKey}\n",
    "        extra_configs = {'fs.azure.sas.' + blobContainerName + '.' + storageAccountName + '.blob.core.windows.net': sasToken}\n",
    "      )\n",
    "      print(\"OK!\")\n",
    "    except Exception as e:\n",
    "      print(\"Falha\", e)"
   ]
  },
  {
   "cell_type": "markdown",
   "metadata": {
    "application/vnd.databricks.v1+cell": {
     "cellMetadata": {
      "byteLimit": 2048000,
      "rowLimit": 10000
     },
     "inputWidgets": {},
     "nuid": "40a6dfa7-fb55-46c5-a3a8-44e9bee8f390",
     "showTitle": false,
     "tableResultSettingsMap": {},
     "title": ""
    }
   },
   "source": [
    "###Montando todos os containers"
   ]
  },
  {
   "cell_type": "code",
   "execution_count": 0,
   "metadata": {
    "application/vnd.databricks.v1+cell": {
     "cellMetadata": {
      "byteLimit": 2048000,
      "rowLimit": 10000
     },
     "inputWidgets": {},
     "nuid": "8d62fdfc-2dc8-4465-98fd-834ac8ae9404",
     "showTitle": false,
     "tableResultSettingsMap": {},
     "title": ""
    }
   },
   "outputs": [
    {
     "output_type": "stream",
     "name": "stdout",
     "output_type": "stream",
     "text": [
      "Falha An error occurred while calling o1888.mount.\n: java.rmi.RemoteException: java.lang.IllegalArgumentException: requirement failed: Directory already mounted: /mnt/datalake4b6c87c48101c278/landing-zone; nested exception is: \n\tjava.lang.IllegalArgumentException: requirement failed: Directory already mounted: /mnt/datalake4b6c87c48101c278/landing-zone\n\tat com.databricks.backend.daemon.data.client.DbfsClient.send0(DbfsClient.scala:135)\n\tat com.databricks.backend.daemon.data.client.DbfsClient.sendIdempotent(DbfsClient.scala:69)\n\tat com.databricks.backend.daemon.dbutils.DBUtilsCore.createOrUpdateMount(DBUtilsCore.scala:1053)\n\tat com.databricks.backend.daemon.dbutils.DBUtilsCore.$anonfun$mount$1(DBUtilsCore.scala:1079)\n\tat com.databricks.logging.UsageLogging.$anonfun$recordOperation$1(UsageLogging.scala:560)\n\tat com.databricks.logging.UsageLogging.executeThunkAndCaptureResultTags$1(UsageLogging.scala:657)\n\tat com.databricks.logging.UsageLogging.$anonfun$recordOperationWithResultTags$4(UsageLogging.scala:678)\n\tat com.databricks.logging.UsageLogging.$anonfun$withAttributionContext$1(UsageLogging.scala:414)\n\tat scala.util.DynamicVariable.withValue(DynamicVariable.scala:62)\n\tat com.databricks.logging.AttributionContext$.withValue(AttributionContext.scala:158)\n\tat com.databricks.logging.UsageLogging.withAttributionContext(UsageLogging.scala:412)\n\tat com.databricks.logging.UsageLogging.withAttributionContext$(UsageLogging.scala:409)\n\tat com.databricks.backend.daemon.dbutils.FSUtils.withAttributionContext(DBUtilsCore.scala:71)\n\tat com.databricks.logging.UsageLogging.withAttributionTags(UsageLogging.scala:457)\n\tat com.databricks.logging.UsageLogging.withAttributionTags$(UsageLogging.scala:442)\n\tat com.databricks.backend.daemon.dbutils.FSUtils.withAttributionTags(DBUtilsCore.scala:71)\n\tat com.databricks.logging.UsageLogging.recordOperationWithResultTags(UsageLogging.scala:652)\n\tat com.databricks.logging.UsageLogging.recordOperationWithResultTags$(UsageLogging.scala:569)\n\tat com.databricks.backend.daemon.dbutils.FSUtils.recordOperationWithResultTags(DBUtilsCore.scala:71)\n\tat com.databricks.logging.UsageLogging.recordOperation(UsageLogging.scala:560)\n\tat com.databricks.logging.UsageLogging.recordOperation$(UsageLogging.scala:528)\n\tat com.databricks.backend.daemon.dbutils.FSUtils.recordOperation(DBUtilsCore.scala:71)\n\tat com.databricks.backend.daemon.dbutils.FSUtils.recordDbutilsFsOp(DBUtilsCore.scala:135)\n\tat com.databricks.backend.daemon.dbutils.DBUtilsCore.mount(DBUtilsCore.scala:1073)\n\tat sun.reflect.NativeMethodAccessorImpl.invoke0(Native Method)\n\tat sun.reflect.NativeMethodAccessorImpl.invoke(NativeMethodAccessorImpl.java:62)\n\tat sun.reflect.DelegatingMethodAccessorImpl.invoke(DelegatingMethodAccessorImpl.java:43)\n\tat java.lang.reflect.Method.invoke(Method.java:498)\n\tat py4j.reflection.MethodInvoker.invoke(MethodInvoker.java:244)\n\tat py4j.reflection.ReflectionEngine.invoke(ReflectionEngine.java:380)\n\tat py4j.Gateway.invoke(Gateway.java:306)\n\tat py4j.commands.AbstractCommand.invokeMethod(AbstractCommand.java:132)\n\tat py4j.commands.CallCommand.execute(CallCommand.java:79)\n\tat py4j.ClientServerConnection.waitForCommands(ClientServerConnection.java:195)\n\tat py4j.ClientServerConnection.run(ClientServerConnection.java:115)\n\tat java.lang.Thread.run(Thread.java:750)\nCaused by: java.lang.IllegalArgumentException: requirement failed: Directory already mounted: /mnt/datalake4b6c87c48101c278/landing-zone\n\tat scala.Predef$.require(Predef.scala:281)\n\tat com.databricks.backend.daemon.data.server.DefaultMetadataManager.$anonfun$insertMount$1(MetadataManager.scala:860)\n\tat com.databricks.backend.daemon.data.server.DefaultMetadataManager.$anonfun$modifyAndVerify$2(MetadataManager.scala:1242)\n\tat scala.runtime.java8.JFunction0$mcV$sp.apply(JFunction0$mcV$sp.java:23)\n\tat com.databricks.backend.daemon.data.server.DefaultMetadataManager.withRetries(MetadataManager.scala:1015)\n\tat com.databricks.backend.daemon.data.server.DefaultMetadataManager.modifyAndVerify(MetadataManager.scala:1231)\n\tat com.databricks.backend.daemon.data.server.DefaultMetadataManager.insertMount(MetadataManager.scala:868)\n\tat com.databricks.backend.daemon.data.server.handler.MountHandler.receive(MountHandler.scala:131)\n\tat com.databricks.backend.daemon.data.server.handler.CEMountHandler.receive(MountHandler.scala:175)\n\tat com.databricks.backend.daemon.data.server.handler.DbfsRequestHandler.receive(DbfsRequestHandler.scala:16)\n\tat com.databricks.backend.daemon.data.server.handler.DbfsRequestHandler.receive$(DbfsRequestHandler.scala:15)\n\tat com.databricks.backend.daemon.data.server.handler.MountHandler.receive(MountHandler.scala:39)\n\tat com.databricks.backend.daemon.data.server.session.SessionContext.$anonfun$queryHandlers$1(SessionContext.scala:54)\n\tat com.databricks.backend.daemon.data.server.session.SessionContext.$anonfun$queryHandlers$1$adapted(SessionContext.scala:53)\n\tat scala.collection.immutable.List.foreach(List.scala:431)\n\tat com.databricks.backend.daemon.data.server.session.SessionContext.queryHandlers(SessionContext.scala:53)\n\tat com.databricks.backend.daemon.data.server.DbfsServerBackend.$anonfun$handleOtherRpc$2(DbfsServerBackend.scala:599)\n\tat com.databricks.logging.AttributionContextTracing.$anonfun$withAttributionContext$1(AttributionContextTracing.scala:49)\n\tat com.databricks.logging.AttributionContext$.$anonfun$withValue$1(AttributionContext.scala:290)\n\tat scala.util.DynamicVariable.withValue(DynamicVariable.scala:62)\n\tat com.databricks.logging.AttributionContext$.withValue(AttributionContext.scala:286)\n\tat com.databricks.logging.AttributionContextTracing.withAttributionContext(AttributionContextTracing.scala:47)\n\tat com.databricks.logging.AttributionContextTracing.withAttributionContext$(AttributionContextTracing.scala:44)\n\tat com.databricks.rpc.ServerBackend.withAttributionContext(ServerBackend.scala:22)\n\tat com.databricks.logging.AttributionContextTracing.withAttributionTags(AttributionContextTracing.scala:96)\n\tat com.databricks.logging.AttributionContextTracing.withAttributionTags$(AttributionContextTracing.scala:77)\n\tat com.databricks.rpc.ServerBackend.withAttributionTags(ServerBackend.scala:22)\n\tat com.databricks.backend.daemon.data.server.DbfsServerBackend.com$databricks$backend$daemon$data$server$DbfsServerBackend$$handleOtherRpc(DbfsServerBackend.scala:599)\n\tat com.databricks.backend.daemon.data.server.DbfsServerBackend$$anonfun$receive$1.applyOrElse(DbfsServerBackend.scala:524)\n\tat com.databricks.backend.daemon.data.server.DbfsServerBackend$$anonfun$receive$1.applyOrElse(DbfsServerBackend.scala:431)\n\tat com.databricks.rpc.ServerBackend.$anonfun$internalReceive0$2(ServerBackend.scala:174)\n\tat com.databricks.rpc.ServerBackend$$anonfun$commonReceive$1.applyOrElse(ServerBackend.scala:200)\n\tat com.databricks.rpc.ServerBackend$$anonfun$commonReceive$1.applyOrElse(ServerBackend.scala:200)\n\tat com.databricks.rpc.ServerBackend.internalReceive0(ServerBackend.scala:171)\n\tat com.databricks.rpc.ServerBackend.$anonfun$internalReceive$1(ServerBackend.scala:147)\n\tat com.databricks.logging.UsageLogging.$anonfun$recordOperation$1(UsageLogging.scala:510)\n\tat com.databricks.logging.UsageLogging.executeThunkAndCaptureResultTags$1(UsageLogging.scala:616)\n\tat com.databricks.logging.UsageLogging.$anonfun$recordOperationWithResultTags$4(UsageLogging.scala:643)\n\tat com.databricks.logging.AttributionContextTracing.$anonfun$withAttributionContext$1(AttributionContextTracing.scala:49)\n\tat com.databricks.logging.AttributionContext$.$anonfun$withValue$1(AttributionContext.scala:290)\n\tat scala.util.DynamicVariable.withValue(DynamicVariable.scala:62)\n\tat com.databricks.logging.AttributionContext$.withValue(AttributionContext.scala:286)\n\tat com.databricks.logging.AttributionContextTracing.withAttributionContext(AttributionContextTracing.scala:47)\n\tat com.databricks.logging.AttributionContextTracing.withAttributionContext$(AttributionContextTracing.scala:44)\n\tat com.databricks.rpc.ServerBackend.withAttributionContext(ServerBackend.scala:22)\n\tat com.databricks.logging.AttributionContextTracing.withAttributionTags(AttributionContextTracing.scala:96)\n\tat com.databricks.logging.AttributionContextTracing.withAttributionTags$(AttributionContextTracing.scala:77)\n\tat com.databricks.rpc.ServerBackend.withAttributionTags(ServerBackend.scala:22)\n\tat com.databricks.logging.UsageLogging.recordOperationWithResultTags(UsageLogging.scala:611)\n\tat com.databricks.logging.UsageLogging.recordOperationWithResultTags$(UsageLogging.scala:519)\n\tat com.databricks.rpc.ServerBackend.recordOperationWithResultTags(ServerBackend.scala:22)\n\tat com.databricks.logging.UsageLogging.recordOperation(UsageLogging.scala:511)\n\tat com.databricks.logging.UsageLogging.recordOperation$(UsageLogging.scala:475)\n\tat com.databricks.rpc.ServerBackend.recordOperation(ServerBackend.scala:22)\n\tat com.databricks.rpc.ServerBackend.internalReceive(ServerBackend.scala:146)\n\tat com.databricks.rpc.JettyServer$RequestManager.handleRPC(JettyServer.scala:1033)\n\tat com.databricks.rpc.JettyServer$RequestManager.handleRequestAndRespond(JettyServer.scala:953)\n\tat com.databricks.rpc.JettyServer$RequestManager.$anonfun$handleHttp$5(JettyServer.scala:548)\n\tat com.databricks.rpc.JettyServer$RequestManager.$anonfun$handleHttp$5$adapted(JettyServer.scala:513)\n\tat com.databricks.logging.activity.ActivityContextFactory$.$anonfun$withActivityInternal$12(ActivityContextFactory.scala:860)\n\tat com.databricks.logging.AttributionContextTracing.$anonfun$withAttributionContext$1(AttributionContextTracing.scala:49)\n\tat com.databricks.logging.AttributionContext$.$anonfun$withValue$1(AttributionContext.scala:290)\n\tat scala.util.DynamicVariable.withValue(DynamicVariable.scala:62)\n\tat com.databricks.logging.AttributionContext$.withValue(AttributionContext.scala:286)\n\tat com.databricks.logging.AttributionContextTracing.withAttributionContext(AttributionContextTracing.scala:47)\n\tat com.databricks.logging.AttributionContextTracing.withAttributionContext$(AttributionContextTracing.scala:44)\n\tat com.databricks.logging.activity.ActivityContextFactory$.withAttributionContext(ActivityContextFactory.scala:53)\n\tat com.databricks.logging.activity.ActivityContextFactory$.$anonfun$withActivityInternal$2(ActivityContextFactory.scala:860)\n\tat com.databricks.context.integrity.IntegrityCheckContext$ThreadLocalStorage$.withValue(IntegrityCheckContext.scala:73)\n\tat com.databricks.logging.activity.ActivityContextFactory$.withActivityInternal(ActivityContextFactory.scala:823)\n\tat com.databricks.logging.activity.ActivityContextFactory$.withActivityInternal(ActivityContextFactory.scala:805)\n\tat com.databricks.logging.activity.ActivityContextFactory$.$anonfun$withServiceRequestActivity$15(ActivityContextFactory.scala:291)\n\tat com.databricks.logging.AttributionContextTracing.$anonfun$withAttributionContext$1(AttributionContextTracing.scala:49)\n\tat com.databricks.logging.AttributionContext$.$anonfun$withValue$1(AttributionContext.scala:290)\n\tat scala.util.DynamicVariable.withValue(DynamicVariable.scala:62)\n\tat com.databricks.logging.AttributionContext$.withValue(AttributionContext.scala:286)\n\tat com.databricks.logging.AttributionContextTracing.withAttributionContext(AttributionContextTracing.scala:47)\n\tat com.databricks.logging.AttributionContextTracing.withAttributionContext$(AttributionContextTracing.scala:44)\n\tat com.databricks.logging.activity.ActivityContextFactory$.withAttributionContext(ActivityContextFactory.scala:53)\n\tat com.databricks.logging.activity.ActivityContextFactory$.withServiceRequestActivity(ActivityContextFactory.scala:291)\n\tat com.databricks.rpc.JettyServer$RequestManager.handleHttp(JettyServer.scala:513)\n\tat com.databricks.rpc.JettyServer$RequestManager.doPost(JettyServer.scala:408)\n\tat javax.servlet.http.HttpServlet.service(HttpServlet.java:665)\n\tat com.databricks.rpc.HttpServletWithPatch.service(HttpServletWithPatch.scala:33)\n\tat javax.servlet.http.HttpServlet.service(HttpServlet.java:750)\n\tat org.eclipse.jetty.servlet.ServletHolder.handle(ServletHolder.java:799)\n\tat org.eclipse.jetty.servlet.ServletHandler.doHandle(ServletHandler.java:554)\n\tat org.eclipse.jetty.server.handler.ScopedHandler.nextScope(ScopedHandler.java:190)\n\tat org.eclipse.jetty.servlet.ServletHandler.doScope(ServletHandler.java:505)\n\tat org.eclipse.jetty.server.handler.ScopedHandler.handle(ScopedHandler.java:141)\n\tat org.eclipse.jetty.server.handler.HandlerWrapper.handle(HandlerWrapper.java:127)\n\tat org.eclipse.jetty.server.Server.handle(Server.java:516)\n\tat org.eclipse.jetty.server.HttpChannel.lambda$handle$1(HttpChannel.java:487)\n\tat org.eclipse.jetty.server.HttpChannel.dispatch(HttpChannel.java:732)\n\tat org.eclipse.jetty.server.HttpChannel.handle(HttpChannel.java:479)\n\tat org.eclipse.jetty.server.HttpConnection.onFillable(HttpConnection.java:277)\n\tat org.eclipse.jetty.io.AbstractConnection$ReadCallback.succeeded(AbstractConnection.java:311)\n\tat org.eclipse.jetty.io.FillInterest.fillable(FillInterest.java:105)\n\tat org.eclipse.jetty.io.ChannelEndPoint$1.run(ChannelEndPoint.java:104)\n\tat org.eclipse.jetty.util.thread.strategy.EatWhatYouKill.runTask(EatWhatYouKill.java:338)\n\tat org.eclipse.jetty.util.thread.strategy.EatWhatYouKill.doProduce(EatWhatYouKill.java:315)\n\tat org.eclipse.jetty.util.thread.strategy.EatWhatYouKill.tryProduce(EatWhatYouKill.java:173)\n\tat org.eclipse.jetty.util.thread.strategy.EatWhatYouKill.run(EatWhatYouKill.java:131)\n\tat org.eclipse.jetty.util.thread.ReservedThreadExecutor$ReservedThread.run(ReservedThreadExecutor.java:409)\n\tat com.databricks.rpc.InstrumentedQueuedThreadPool$$anon$1.$anonfun$run$2(InstrumentedQueuedThreadPool.scala:110)\n\tat scala.runtime.java8.JFunction0$mcV$sp.apply(JFunction0$mcV$sp.java:23)\n\tat com.databricks.logging.AttributionContextTracing.$anonfun$withAttributionContext$1(AttributionContextTracing.scala:49)\n\tat com.databricks.logging.AttributionContext$.$anonfun$withValue$1(AttributionContext.scala:290)\n\tat scala.util.DynamicVariable.withValue(DynamicVariable.scala:62)\n\tat com.databricks.logging.AttributionContext$.withValue(AttributionContext.scala:286)\n\tat com.databricks.logging.AttributionContextTracing.withAttributionContext(AttributionContextTracing.scala:47)\n\tat com.databricks.logging.AttributionContextTracing.withAttributionContext$(AttributionContextTracing.scala:44)\n\tat com.databricks.rpc.InstrumentedQueuedThreadPool.withAttributionContext(InstrumentedQueuedThreadPool.scala:45)\n\tat com.databricks.rpc.InstrumentedQueuedThreadPool$$anon$1.$anonfun$run$1(InstrumentedQueuedThreadPool.scala:110)\n\tat scala.runtime.java8.JFunction0$mcV$sp.apply(JFunction0$mcV$sp.java:23)\n\tat com.databricks.instrumentation.QueuedThreadPoolInstrumenter.trackActiveThreads(QueuedThreadPoolInstrumenter.scala:132)\n\tat com.databricks.instrumentation.QueuedThreadPoolInstrumenter.trackActiveThreads$(QueuedThreadPoolInstrumenter.scala:129)\n\tat com.databricks.rpc.InstrumentedQueuedThreadPool.trackActiveThreads(InstrumentedQueuedThreadPool.scala:45)\n\tat com.databricks.rpc.InstrumentedQueuedThreadPool$$anon$1.run(InstrumentedQueuedThreadPool.scala:92)\n\tat org.eclipse.jetty.util.thread.QueuedThreadPool.runJob(QueuedThreadPool.java:883)\n\tat org.eclipse.jetty.util.thread.QueuedThreadPool$Runner.run(QueuedThreadPool.java:1034)\n\tat java.lang.Thread.run(Thread.java:840)\n\nFalha An error occurred while calling o1888.mount.\n: java.rmi.RemoteException: java.lang.IllegalArgumentException: requirement failed: Directory already mounted: /mnt/datalake4b6c87c48101c278/bronze; nested exception is: \n\tjava.lang.IllegalArgumentException: requirement failed: Directory already mounted: /mnt/datalake4b6c87c48101c278/bronze\n\tat com.databricks.backend.daemon.data.client.DbfsClient.send0(DbfsClient.scala:135)\n\tat com.databricks.backend.daemon.data.client.DbfsClient.sendIdempotent(DbfsClient.scala:69)\n\tat com.databricks.backend.daemon.dbutils.DBUtilsCore.createOrUpdateMount(DBUtilsCore.scala:1053)\n\tat com.databricks.backend.daemon.dbutils.DBUtilsCore.$anonfun$mount$1(DBUtilsCore.scala:1079)\n\tat com.databricks.logging.UsageLogging.$anonfun$recordOperation$1(UsageLogging.scala:560)\n\tat com.databricks.logging.UsageLogging.executeThunkAndCaptureResultTags$1(UsageLogging.scala:657)\n\tat com.databricks.logging.UsageLogging.$anonfun$recordOperationWithResultTags$4(UsageLogging.scala:678)\n\tat com.databricks.logging.UsageLogging.$anonfun$withAttributionContext$1(UsageLogging.scala:414)\n\tat scala.util.DynamicVariable.withValue(DynamicVariable.scala:62)\n\tat com.databricks.logging.AttributionContext$.withValue(AttributionContext.scala:158)\n\tat com.databricks.logging.UsageLogging.withAttributionContext(UsageLogging.scala:412)\n\tat com.databricks.logging.UsageLogging.withAttributionContext$(UsageLogging.scala:409)\n\tat com.databricks.backend.daemon.dbutils.FSUtils.withAttributionContext(DBUtilsCore.scala:71)\n\tat com.databricks.logging.UsageLogging.withAttributionTags(UsageLogging.scala:457)\n\tat com.databricks.logging.UsageLogging.withAttributionTags$(UsageLogging.scala:442)\n\tat com.databricks.backend.daemon.dbutils.FSUtils.withAttributionTags(DBUtilsCore.scala:71)\n\tat com.databricks.logging.UsageLogging.recordOperationWithResultTags(UsageLogging.scala:652)\n\tat com.databricks.logging.UsageLogging.recordOperationWithResultTags$(UsageLogging.scala:569)\n\tat com.databricks.backend.daemon.dbutils.FSUtils.recordOperationWithResultTags(DBUtilsCore.scala:71)\n\tat com.databricks.logging.UsageLogging.recordOperation(UsageLogging.scala:560)\n\tat com.databricks.logging.UsageLogging.recordOperation$(UsageLogging.scala:528)\n\tat com.databricks.backend.daemon.dbutils.FSUtils.recordOperation(DBUtilsCore.scala:71)\n\tat com.databricks.backend.daemon.dbutils.FSUtils.recordDbutilsFsOp(DBUtilsCore.scala:135)\n\tat com.databricks.backend.daemon.dbutils.DBUtilsCore.mount(DBUtilsCore.scala:1073)\n\tat sun.reflect.NativeMethodAccessorImpl.invoke0(Native Method)\n\tat sun.reflect.NativeMethodAccessorImpl.invoke(NativeMethodAccessorImpl.java:62)\n\tat sun.reflect.DelegatingMethodAccessorImpl.invoke(DelegatingMethodAccessorImpl.java:43)\n\tat java.lang.reflect.Method.invoke(Method.java:498)\n\tat py4j.reflection.MethodInvoker.invoke(MethodInvoker.java:244)\n\tat py4j.reflection.ReflectionEngine.invoke(ReflectionEngine.java:380)\n\tat py4j.Gateway.invoke(Gateway.java:306)\n\tat py4j.commands.AbstractCommand.invokeMethod(AbstractCommand.java:132)\n\tat py4j.commands.CallCommand.execute(CallCommand.java:79)\n\tat py4j.ClientServerConnection.waitForCommands(ClientServerConnection.java:195)\n\tat py4j.ClientServerConnection.run(ClientServerConnection.java:115)\n\tat java.lang.Thread.run(Thread.java:750)\nCaused by: java.lang.IllegalArgumentException: requirement failed: Directory already mounted: /mnt/datalake4b6c87c48101c278/bronze\n\tat scala.Predef$.require(Predef.scala:281)\n\tat com.databricks.backend.daemon.data.server.DefaultMetadataManager.$anonfun$insertMount$1(MetadataManager.scala:860)\n\tat com.databricks.backend.daemon.data.server.DefaultMetadataManager.$anonfun$modifyAndVerify$2(MetadataManager.scala:1242)\n\tat scala.runtime.java8.JFunction0$mcV$sp.apply(JFunction0$mcV$sp.java:23)\n\tat com.databricks.backend.daemon.data.server.DefaultMetadataManager.withRetries(MetadataManager.scala:1015)\n\tat com.databricks.backend.daemon.data.server.DefaultMetadataManager.modifyAndVerify(MetadataManager.scala:1231)\n\tat com.databricks.backend.daemon.data.server.DefaultMetadataManager.insertMount(MetadataManager.scala:868)\n\tat com.databricks.backend.daemon.data.server.handler.MountHandler.receive(MountHandler.scala:131)\n\tat com.databricks.backend.daemon.data.server.handler.CEMountHandler.receive(MountHandler.scala:175)\n\tat com.databricks.backend.daemon.data.server.handler.DbfsRequestHandler.receive(DbfsRequestHandler.scala:16)\n\tat com.databricks.backend.daemon.data.server.handler.DbfsRequestHandler.receive$(DbfsRequestHandler.scala:15)\n\tat com.databricks.backend.daemon.data.server.handler.MountHandler.receive(MountHandler.scala:39)\n\tat com.databricks.backend.daemon.data.server.session.SessionContext.$anonfun$queryHandlers$1(SessionContext.scala:54)\n\tat com.databricks.backend.daemon.data.server.session.SessionContext.$anonfun$queryHandlers$1$adapted(SessionContext.scala:53)\n\tat scala.collection.immutable.List.foreach(List.scala:431)\n\tat com.databricks.backend.daemon.data.server.session.SessionContext.queryHandlers(SessionContext.scala:53)\n\tat com.databricks.backend.daemon.data.server.DbfsServerBackend.$anonfun$handleOtherRpc$2(DbfsServerBackend.scala:599)\n\tat com.databricks.logging.AttributionContextTracing.$anonfun$withAttributionContext$1(AttributionContextTracing.scala:49)\n\tat com.databricks.logging.AttributionContext$.$anonfun$withValue$1(AttributionContext.scala:290)\n\tat scala.util.DynamicVariable.withValue(DynamicVariable.scala:62)\n\tat com.databricks.logging.AttributionContext$.withValue(AttributionContext.scala:286)\n\tat com.databricks.logging.AttributionContextTracing.withAttributionContext(AttributionContextTracing.scala:47)\n\tat com.databricks.logging.AttributionContextTracing.withAttributionContext$(AttributionContextTracing.scala:44)\n\tat com.databricks.rpc.ServerBackend.withAttributionContext(ServerBackend.scala:22)\n\tat com.databricks.logging.AttributionContextTracing.withAttributionTags(AttributionContextTracing.scala:96)\n\tat com.databricks.logging.AttributionContextTracing.withAttributionTags$(AttributionContextTracing.scala:77)\n\tat com.databricks.rpc.ServerBackend.withAttributionTags(ServerBackend.scala:22)\n\tat com.databricks.backend.daemon.data.server.DbfsServerBackend.com$databricks$backend$daemon$data$server$DbfsServerBackend$$handleOtherRpc(DbfsServerBackend.scala:599)\n\tat com.databricks.backend.daemon.data.server.DbfsServerBackend$$anonfun$receive$1.applyOrElse(DbfsServerBackend.scala:524)\n\tat com.databricks.backend.daemon.data.server.DbfsServerBackend$$anonfun$receive$1.applyOrElse(DbfsServerBackend.scala:431)\n\tat com.databricks.rpc.ServerBackend.$anonfun$internalReceive0$2(ServerBackend.scala:174)\n\tat com.databricks.rpc.ServerBackend$$anonfun$commonReceive$1.applyOrElse(ServerBackend.scala:200)\n\tat com.databricks.rpc.ServerBackend$$anonfun$commonReceive$1.applyOrElse(ServerBackend.scala:200)\n\tat com.databricks.rpc.ServerBackend.internalReceive0(ServerBackend.scala:171)\n\tat com.databricks.rpc.ServerBackend.$anonfun$internalReceive$1(ServerBackend.scala:147)\n\tat com.databricks.logging.UsageLogging.$anonfun$recordOperation$1(UsageLogging.scala:510)\n\tat com.databricks.logging.UsageLogging.executeThunkAndCaptureResultTags$1(UsageLogging.scala:616)\n\tat com.databricks.logging.UsageLogging.$anonfun$recordOperationWithResultTags$4(UsageLogging.scala:643)\n\tat com.databricks.logging.AttributionContextTracing.$anonfun$withAttributionContext$1(AttributionContextTracing.scala:49)\n\tat com.databricks.logging.AttributionContext$.$anonfun$withValue$1(AttributionContext.scala:290)\n\tat scala.util.DynamicVariable.withValue(DynamicVariable.scala:62)\n\tat com.databricks.logging.AttributionContext$.withValue(AttributionContext.scala:286)\n\tat com.databricks.logging.AttributionContextTracing.withAttributionContext(AttributionContextTracing.scala:47)\n\tat com.databricks.logging.AttributionContextTracing.withAttributionContext$(AttributionContextTracing.scala:44)\n\tat com.databricks.rpc.ServerBackend.withAttributionContext(ServerBackend.scala:22)\n\tat com.databricks.logging.AttributionContextTracing.withAttributionTags(AttributionContextTracing.scala:96)\n\tat com.databricks.logging.AttributionContextTracing.withAttributionTags$(AttributionContextTracing.scala:77)\n\tat com.databricks.rpc.ServerBackend.withAttributionTags(ServerBackend.scala:22)\n\tat com.databricks.logging.UsageLogging.recordOperationWithResultTags(UsageLogging.scala:611)\n\tat com.databricks.logging.UsageLogging.recordOperationWithResultTags$(UsageLogging.scala:519)\n\tat com.databricks.rpc.ServerBackend.recordOperationWithResultTags(ServerBackend.scala:22)\n\tat com.databricks.logging.UsageLogging.recordOperation(UsageLogging.scala:511)\n\tat com.databricks.logging.UsageLogging.recordOperation$(UsageLogging.scala:475)\n\tat com.databricks.rpc.ServerBackend.recordOperation(ServerBackend.scala:22)\n\tat com.databricks.rpc.ServerBackend.internalReceive(ServerBackend.scala:146)\n\tat com.databricks.rpc.JettyServer$RequestManager.handleRPC(JettyServer.scala:1033)\n\tat com.databricks.rpc.JettyServer$RequestManager.handleRequestAndRespond(JettyServer.scala:953)\n\tat com.databricks.rpc.JettyServer$RequestManager.$anonfun$handleHttp$5(JettyServer.scala:548)\n\tat com.databricks.rpc.JettyServer$RequestManager.$anonfun$handleHttp$5$adapted(JettyServer.scala:513)\n\tat com.databricks.logging.activity.ActivityContextFactory$.$anonfun$withActivityInternal$12(ActivityContextFactory.scala:860)\n\tat com.databricks.logging.AttributionContextTracing.$anonfun$withAttributionContext$1(AttributionContextTracing.scala:49)\n\tat com.databricks.logging.AttributionContext$.$anonfun$withValue$1(AttributionContext.scala:290)\n\tat scala.util.DynamicVariable.withValue(DynamicVariable.scala:62)\n\tat com.databricks.logging.AttributionContext$.withValue(AttributionContext.scala:286)\n\tat com.databricks.logging.AttributionContextTracing.withAttributionContext(AttributionContextTracing.scala:47)\n\tat com.databricks.logging.AttributionContextTracing.withAttributionContext$(AttributionContextTracing.scala:44)\n\tat com.databricks.logging.activity.ActivityContextFactory$.withAttributionContext(ActivityContextFactory.scala:53)\n\tat com.databricks.logging.activity.ActivityContextFactory$.$anonfun$withActivityInternal$2(ActivityContextFactory.scala:860)\n\tat com.databricks.context.integrity.IntegrityCheckContext$ThreadLocalStorage$.withValue(IntegrityCheckContext.scala:73)\n\tat com.databricks.logging.activity.ActivityContextFactory$.withActivityInternal(ActivityContextFactory.scala:823)\n\tat com.databricks.logging.activity.ActivityContextFactory$.withActivityInternal(ActivityContextFactory.scala:805)\n\tat com.databricks.logging.activity.ActivityContextFactory$.$anonfun$withServiceRequestActivity$15(ActivityContextFactory.scala:291)\n\tat com.databricks.logging.AttributionContextTracing.$anonfun$withAttributionContext$1(AttributionContextTracing.scala:49)\n\tat com.databricks.logging.AttributionContext$.$anonfun$withValue$1(AttributionContext.scala:290)\n\tat scala.util.DynamicVariable.withValue(DynamicVariable.scala:62)\n\tat com.databricks.logging.AttributionContext$.withValue(AttributionContext.scala:286)\n\tat com.databricks.logging.AttributionContextTracing.withAttributionContext(AttributionContextTracing.scala:47)\n\tat com.databricks.logging.AttributionContextTracing.withAttributionContext$(AttributionContextTracing.scala:44)\n\tat com.databricks.logging.activity.ActivityContextFactory$.withAttributionContext(ActivityContextFactory.scala:53)\n\tat com.databricks.logging.activity.ActivityContextFactory$.withServiceRequestActivity(ActivityContextFactory.scala:291)\n\tat com.databricks.rpc.JettyServer$RequestManager.handleHttp(JettyServer.scala:513)\n\tat com.databricks.rpc.JettyServer$RequestManager.doPost(JettyServer.scala:408)\n\tat javax.servlet.http.HttpServlet.service(HttpServlet.java:665)\n\tat com.databricks.rpc.HttpServletWithPatch.service(HttpServletWithPatch.scala:33)\n\tat javax.servlet.http.HttpServlet.service(HttpServlet.java:750)\n\tat org.eclipse.jetty.servlet.ServletHolder.handle(ServletHolder.java:799)\n\tat org.eclipse.jetty.servlet.ServletHandler.doHandle(ServletHandler.java:554)\n\tat org.eclipse.jetty.server.handler.ScopedHandler.nextScope(ScopedHandler.java:190)\n\tat org.eclipse.jetty.servlet.ServletHandler.doScope(ServletHandler.java:505)\n\tat org.eclipse.jetty.server.handler.ScopedHandler.handle(ScopedHandler.java:141)\n\tat org.eclipse.jetty.server.handler.HandlerWrapper.handle(HandlerWrapper.java:127)\n\tat org.eclipse.jetty.server.Server.handle(Server.java:516)\n\tat org.eclipse.jetty.server.HttpChannel.lambda$handle$1(HttpChannel.java:487)\n\tat org.eclipse.jetty.server.HttpChannel.dispatch(HttpChannel.java:732)\n\tat org.eclipse.jetty.server.HttpChannel.handle(HttpChannel.java:479)\n\tat org.eclipse.jetty.server.HttpConnection.onFillable(HttpConnection.java:277)\n\tat org.eclipse.jetty.io.AbstractConnection$ReadCallback.succeeded(AbstractConnection.java:311)\n\tat org.eclipse.jetty.io.FillInterest.fillable(FillInterest.java:105)\n\tat org.eclipse.jetty.io.ChannelEndPoint$1.run(ChannelEndPoint.java:104)\n\tat org.eclipse.jetty.util.thread.strategy.EatWhatYouKill.runTask(EatWhatYouKill.java:338)\n\tat org.eclipse.jetty.util.thread.strategy.EatWhatYouKill.doProduce(EatWhatYouKill.java:315)\n\tat org.eclipse.jetty.util.thread.strategy.EatWhatYouKill.tryProduce(EatWhatYouKill.java:173)\n\tat org.eclipse.jetty.util.thread.strategy.EatWhatYouKill.run(EatWhatYouKill.java:131)\n\tat org.eclipse.jetty.util.thread.ReservedThreadExecutor$ReservedThread.run(ReservedThreadExecutor.java:409)\n\tat com.databricks.rpc.InstrumentedQueuedThreadPool$$anon$1.$anonfun$run$2(InstrumentedQueuedThreadPool.scala:110)\n\tat scala.runtime.java8.JFunction0$mcV$sp.apply(JFunction0$mcV$sp.java:23)\n\tat com.databricks.logging.AttributionContextTracing.$anonfun$withAttributionContext$1(AttributionContextTracing.scala:49)\n\tat com.databricks.logging.AttributionContext$.$anonfun$withValue$1(AttributionContext.scala:290)\n\tat scala.util.DynamicVariable.withValue(DynamicVariable.scala:62)\n\tat com.databricks.logging.AttributionContext$.withValue(AttributionContext.scala:286)\n\tat com.databricks.logging.AttributionContextTracing.withAttributionContext(AttributionContextTracing.scala:47)\n\tat com.databricks.logging.AttributionContextTracing.withAttributionContext$(AttributionContextTracing.scala:44)\n\tat com.databricks.rpc.InstrumentedQueuedThreadPool.withAttributionContext(InstrumentedQueuedThreadPool.scala:45)\n\tat com.databricks.rpc.InstrumentedQueuedThreadPool$$anon$1.$anonfun$run$1(InstrumentedQueuedThreadPool.scala:110)\n\tat scala.runtime.java8.JFunction0$mcV$sp.apply(JFunction0$mcV$sp.java:23)\n\tat com.databricks.instrumentation.QueuedThreadPoolInstrumenter.trackActiveThreads(QueuedThreadPoolInstrumenter.scala:132)\n\tat com.databricks.instrumentation.QueuedThreadPoolInstrumenter.trackActiveThreads$(QueuedThreadPoolInstrumenter.scala:129)\n\tat com.databricks.rpc.InstrumentedQueuedThreadPool.trackActiveThreads(InstrumentedQueuedThreadPool.scala:45)\n\tat com.databricks.rpc.InstrumentedQueuedThreadPool$$anon$1.run(InstrumentedQueuedThreadPool.scala:92)\n\tat org.eclipse.jetty.util.thread.QueuedThreadPool.runJob(QueuedThreadPool.java:883)\n\tat org.eclipse.jetty.util.thread.QueuedThreadPool$Runner.run(QueuedThreadPool.java:1034)\n\tat java.lang.Thread.run(Thread.java:840)\n\nOK!\nOK!\n"
     ]
    }
   ],
   "source": [
    "mount_adls('landing-zone')\n",
    "mount_adls('bronze')\n",
    "mount_adls('silver')\n",
    "mount_adls('gold')"
   ]
  },
  {
   "cell_type": "markdown",
   "metadata": {
    "application/vnd.databricks.v1+cell": {
     "cellMetadata": {
      "byteLimit": 2048000,
      "rowLimit": 10000
     },
     "inputWidgets": {},
     "nuid": "fced822b-8bab-437b-8a58-add8a4acd24a",
     "showTitle": false,
     "tableResultSettingsMap": {},
     "title": ""
    }
   },
   "source": [
    "###Mostrando os pontos de montagem no cluster Databricks"
   ]
  },
  {
   "cell_type": "code",
   "execution_count": 0,
   "metadata": {
    "application/vnd.databricks.v1+cell": {
     "cellMetadata": {
      "byteLimit": 2048000,
      "rowLimit": 10000
     },
     "inputWidgets": {},
     "nuid": "d53984ff-8536-4a33-9e43-acfe34489ab1",
     "showTitle": false,
     "tableResultSettingsMap": {},
     "title": ""
    }
   },
   "outputs": [
    {
     "output_type": "display_data",
     "data": {
      "text/html": [
       "<style scoped>\n",
       "  .table-result-container {\n",
       "    max-height: 300px;\n",
       "    overflow: auto;\n",
       "  }\n",
       "  table, th, td {\n",
       "    border: 1px solid black;\n",
       "    border-collapse: collapse;\n",
       "  }\n",
       "  th, td {\n",
       "    padding: 5px;\n",
       "  }\n",
       "  th {\n",
       "    text-align: left;\n",
       "  }\n",
       "</style><div class='table-result-container'><table class='table-result'><thead style='background-color: white'><tr><th>mountPoint</th><th>source</th><th>encryptionType</th></tr></thead><tbody><tr><td>/mnt/datalake6d3129a9a4390b0a/gold</td><td>wasbs://gold@datalake6d3129a9a4390b0a.blob.core.windows.net</td><td></td></tr><tr><td>/mnt/datalakeedda2e0be8d3ec5f/bronze</td><td>wasbs://bronze@datalakeedda2e0be8d3ec5f.blob.core.windows.net</td><td></td></tr><tr><td>/mnt/datalake246d728b13561613/lading-zone</td><td>wasbs://lading-zone@datalake246d728b13561613.blob.core.windows.net</td><td></td></tr><tr><td>/mnt/datalake4b6c87c48101c278/bronze</td><td>wasbs://bronze@datalake4b6c87c48101c278.blob.core.windows.net</td><td></td></tr><tr><td>/mnt/datalake4b6c87c48101c278/gold</td><td>wasbs://gold@datalake4b6c87c48101c278.blob.core.windows.net</td><td></td></tr><tr><td>/databricks-datasets</td><td>databricks-datasets</td><td></td></tr><tr><td>/mnt/datalake246d728b13561613/bronze</td><td>wasbs://bronze@datalake246d728b13561613.blob.core.windows.net</td><td></td></tr><tr><td>/mnt/datalakee66472c14f9678fd/landing-zone</td><td>wasbs://landing-zone@datalakee66472c14f9678fd.blob.core.windows.net</td><td></td></tr><tr><td>/databricks/mlflow-tracking</td><td>databricks/mlflow-tracking</td><td>sse-s3</td></tr><tr><td>/mnt/datalake4b6c87c48101c278/silver</td><td>wasbs://silver@datalake4b6c87c48101c278.blob.core.windows.net</td><td></td></tr><tr><td>/mnt/datalakeedda2e0be8d3ec5f/landing-zone</td><td>wasbs://landing-zone@datalakeedda2e0be8d3ec5f.blob.core.windows.net</td><td></td></tr><tr><td>/databricks-results</td><td>databricks-results</td><td>sse-s3</td></tr><tr><td>/mnt/datalake246d728b13561613/silver</td><td>wasbs://silver@datalake246d728b13561613.blob.core.windows.net</td><td></td></tr><tr><td>/mnt/datalakee66472c14f9678fd/gold</td><td>wasbs://gold@datalakee66472c14f9678fd.blob.core.windows.net</td><td></td></tr><tr><td>/mnt/datalakee66472c14f9678fd/silver</td><td>wasbs://silver@datalakee66472c14f9678fd.blob.core.windows.net</td><td></td></tr><tr><td>/databricks/mlflow-registry</td><td>databricks/mlflow-registry</td><td>sse-s3</td></tr><tr><td>/mnt/datalake6d3129a9a4390b0a/silver</td><td>wasbs://silver@datalake6d3129a9a4390b0a.blob.core.windows.net</td><td></td></tr><tr><td>/mnt/datalake246d728b13561613/gold</td><td>wasbs://gold@datalake246d728b13561613.blob.core.windows.net</td><td></td></tr><tr><td>/mnt/datalake246d728b13561613/landing-zone</td><td>wasbs://landing-zone@datalake246d728b13561613.blob.core.windows.net</td><td></td></tr><tr><td>/mnt/datalakeedda2e0be8d3ec5f/gold</td><td>wasbs://gold@datalakeedda2e0be8d3ec5f.blob.core.windows.net</td><td></td></tr><tr><td>/mnt/datalakeedda2e0be8d3ec5f/lading-zone</td><td>wasbs://lading-zone@datalakeedda2e0be8d3ec5f.blob.core.windows.net</td><td></td></tr><tr><td>/mnt/datalakee66472c14f9678fd/lading-zone</td><td>wasbs://lading-zone@datalakee66472c14f9678fd.blob.core.windows.net</td><td></td></tr><tr><td>/mnt/datalake6d3129a9a4390b0a/bronze</td><td>wasbs://bronze@datalake6d3129a9a4390b0a.blob.core.windows.net</td><td></td></tr><tr><td>/mnt/datalakeedda2e0be8d3ec5f/silver</td><td>wasbs://silver@datalakeedda2e0be8d3ec5f.blob.core.windows.net</td><td></td></tr><tr><td>/mnt/datalake6d3129a9a4390b0a/landing-zone</td><td>wasbs://landing-zone@datalake6d3129a9a4390b0a.blob.core.windows.net</td><td></td></tr><tr><td>/mnt/datalake4b6c87c48101c278/landing-zone</td><td>wasbs://landing-zone@datalake4b6c87c48101c278.blob.core.windows.net</td><td></td></tr><tr><td>/</td><td>DatabricksRoot</td><td>sse-s3</td></tr><tr><td>/mnt/datalake6d3129a9a4390b0a/lading-zone</td><td>wasbs://lading-zone@datalake6d3129a9a4390b0a.blob.core.windows.net</td><td></td></tr><tr><td>/mnt/datalakee66472c14f9678fd/bronze</td><td>wasbs://bronze@datalakee66472c14f9678fd.blob.core.windows.net</td><td></td></tr></tbody></table></div>"
      ]
     },
     "metadata": {
      "application/vnd.databricks.v1+output": {
       "addedWidgets": {},
       "aggData": [],
       "aggError": "",
       "aggOverflow": false,
       "aggSchema": [],
       "aggSeriesLimitReached": false,
       "aggType": "",
       "arguments": {},
       "columnCustomDisplayInfos": {},
       "data": [
        [
         "/mnt/datalake6d3129a9a4390b0a/gold",
         "wasbs://gold@datalake6d3129a9a4390b0a.blob.core.windows.net",
         ""
        ],
        [
         "/mnt/datalakeedda2e0be8d3ec5f/bronze",
         "wasbs://bronze@datalakeedda2e0be8d3ec5f.blob.core.windows.net",
         ""
        ],
        [
         "/mnt/datalake246d728b13561613/lading-zone",
         "wasbs://lading-zone@datalake246d728b13561613.blob.core.windows.net",
         ""
        ],
        [
         "/mnt/datalake4b6c87c48101c278/bronze",
         "wasbs://bronze@datalake4b6c87c48101c278.blob.core.windows.net",
         ""
        ],
        [
         "/mnt/datalake4b6c87c48101c278/gold",
         "wasbs://gold@datalake4b6c87c48101c278.blob.core.windows.net",
         ""
        ],
        [
         "/databricks-datasets",
         "databricks-datasets",
         ""
        ],
        [
         "/mnt/datalake246d728b13561613/bronze",
         "wasbs://bronze@datalake246d728b13561613.blob.core.windows.net",
         ""
        ],
        [
         "/mnt/datalakee66472c14f9678fd/landing-zone",
         "wasbs://landing-zone@datalakee66472c14f9678fd.blob.core.windows.net",
         ""
        ],
        [
         "/databricks/mlflow-tracking",
         "databricks/mlflow-tracking",
         "sse-s3"
        ],
        [
         "/mnt/datalake4b6c87c48101c278/silver",
         "wasbs://silver@datalake4b6c87c48101c278.blob.core.windows.net",
         ""
        ],
        [
         "/mnt/datalakeedda2e0be8d3ec5f/landing-zone",
         "wasbs://landing-zone@datalakeedda2e0be8d3ec5f.blob.core.windows.net",
         ""
        ],
        [
         "/databricks-results",
         "databricks-results",
         "sse-s3"
        ],
        [
         "/mnt/datalake246d728b13561613/silver",
         "wasbs://silver@datalake246d728b13561613.blob.core.windows.net",
         ""
        ],
        [
         "/mnt/datalakee66472c14f9678fd/gold",
         "wasbs://gold@datalakee66472c14f9678fd.blob.core.windows.net",
         ""
        ],
        [
         "/mnt/datalakee66472c14f9678fd/silver",
         "wasbs://silver@datalakee66472c14f9678fd.blob.core.windows.net",
         ""
        ],
        [
         "/databricks/mlflow-registry",
         "databricks/mlflow-registry",
         "sse-s3"
        ],
        [
         "/mnt/datalake6d3129a9a4390b0a/silver",
         "wasbs://silver@datalake6d3129a9a4390b0a.blob.core.windows.net",
         ""
        ],
        [
         "/mnt/datalake246d728b13561613/gold",
         "wasbs://gold@datalake246d728b13561613.blob.core.windows.net",
         ""
        ],
        [
         "/mnt/datalake246d728b13561613/landing-zone",
         "wasbs://landing-zone@datalake246d728b13561613.blob.core.windows.net",
         ""
        ],
        [
         "/mnt/datalakeedda2e0be8d3ec5f/gold",
         "wasbs://gold@datalakeedda2e0be8d3ec5f.blob.core.windows.net",
         ""
        ],
        [
         "/mnt/datalakeedda2e0be8d3ec5f/lading-zone",
         "wasbs://lading-zone@datalakeedda2e0be8d3ec5f.blob.core.windows.net",
         ""
        ],
        [
         "/mnt/datalakee66472c14f9678fd/lading-zone",
         "wasbs://lading-zone@datalakee66472c14f9678fd.blob.core.windows.net",
         ""
        ],
        [
         "/mnt/datalake6d3129a9a4390b0a/bronze",
         "wasbs://bronze@datalake6d3129a9a4390b0a.blob.core.windows.net",
         ""
        ],
        [
         "/mnt/datalakeedda2e0be8d3ec5f/silver",
         "wasbs://silver@datalakeedda2e0be8d3ec5f.blob.core.windows.net",
         ""
        ],
        [
         "/mnt/datalake6d3129a9a4390b0a/landing-zone",
         "wasbs://landing-zone@datalake6d3129a9a4390b0a.blob.core.windows.net",
         ""
        ],
        [
         "/mnt/datalake4b6c87c48101c278/landing-zone",
         "wasbs://landing-zone@datalake4b6c87c48101c278.blob.core.windows.net",
         ""
        ],
        [
         "/",
         "DatabricksRoot",
         "sse-s3"
        ],
        [
         "/mnt/datalake6d3129a9a4390b0a/lading-zone",
         "wasbs://lading-zone@datalake6d3129a9a4390b0a.blob.core.windows.net",
         ""
        ],
        [
         "/mnt/datalakee66472c14f9678fd/bronze",
         "wasbs://bronze@datalakee66472c14f9678fd.blob.core.windows.net",
         ""
        ]
       ],
       "datasetInfos": [],
       "dbfsResultPath": null,
       "isJsonSchema": true,
       "metadata": {},
       "overflow": false,
       "plotOptions": {
        "customPlotOptions": {},
        "displayType": "table",
        "pivotAggregation": null,
        "pivotColumns": null,
        "xColumns": null,
        "yColumns": null
       },
       "removedWidgets": [],
       "schema": [
        {
         "metadata": "{}",
         "name": "mountPoint",
         "type": "\"string\""
        },
        {
         "metadata": "{}",
         "name": "source",
         "type": "\"string\""
        },
        {
         "metadata": "{}",
         "name": "encryptionType",
         "type": "\"string\""
        }
       ],
       "type": "table"
      }
     },
     "output_type": "display_data"
    }
   ],
   "source": [
    "display(dbutils.fs.mounts())"
   ]
  },
  {
   "cell_type": "markdown",
   "metadata": {
    "application/vnd.databricks.v1+cell": {
     "cellMetadata": {
      "byteLimit": 2048000,
      "rowLimit": 10000
     },
     "inputWidgets": {},
     "nuid": "1f6ec630-db65-41cb-9fdf-a941cfafe400",
     "showTitle": false,
     "tableResultSettingsMap": {},
     "title": ""
    }
   },
   "source": [
    "### Mostrando todos os arquivos da camada landing-zone"
   ]
  },
  {
   "cell_type": "code",
   "execution_count": 0,
   "metadata": {
    "application/vnd.databricks.v1+cell": {
     "cellMetadata": {
      "byteLimit": 2048000,
      "rowLimit": 10000
     },
     "inputWidgets": {},
     "nuid": "295f6535-5ab1-43af-a1d3-fadec36b766b",
     "showTitle": false,
     "tableResultSettingsMap": {},
     "title": ""
    }
   },
   "outputs": [
    {
     "output_type": "display_data",
     "data": {
      "text/html": [
       "<style scoped>\n",
       "  .table-result-container {\n",
       "    max-height: 300px;\n",
       "    overflow: auto;\n",
       "  }\n",
       "  table, th, td {\n",
       "    border: 1px solid black;\n",
       "    border-collapse: collapse;\n",
       "  }\n",
       "  th, td {\n",
       "    padding: 5px;\n",
       "  }\n",
       "  th {\n",
       "    text-align: left;\n",
       "  }\n",
       "</style><div class='table-result-container'><table class='table-result'><thead style='background-color: white'><tr><th>path</th><th>name</th><th>size</th><th>modificationTime</th></tr></thead><tbody><tr><td>dbfs:/mnt/datalake4b6c87c48101c278/landing-zone/customers_202506062219.csv</td><td>customers_202506062219.csv</td><td>8910522</td><td>1749270372000</td></tr><tr><td>dbfs:/mnt/datalake4b6c87c48101c278/landing-zone/geolocation_202506062219.csv</td><td>geolocation_202506062219.csv</td><td>59657432</td><td>1749270426000</td></tr><tr><td>dbfs:/mnt/datalake4b6c87c48101c278/landing-zone/leads_closed_202506062219.csv</td><td>leads_closed_202506062219.csv</td><td>178083</td><td>1749270369000</td></tr><tr><td>dbfs:/mnt/datalake4b6c87c48101c278/landing-zone/leads_qualified_202506062219.csv</td><td>leads_qualified_202506062219.csv</td><td>747223</td><td>1749270369000</td></tr><tr><td>dbfs:/mnt/datalake4b6c87c48101c278/landing-zone/order_items_202506062219.csv</td><td>order_items_202506062219.csv</td><td>15680605</td><td>1749270362000</td></tr><tr><td>dbfs:/mnt/datalake4b6c87c48101c278/landing-zone/order_payments_202506062219.csv</td><td>order_payments_202506062219.csv</td><td>5866607</td><td>1749270360000</td></tr><tr><td>dbfs:/mnt/datalake4b6c87c48101c278/landing-zone/order_reviews_202506062219.csv</td><td>order_reviews_202506062219.csv</td><td>14700106</td><td>1749270374000</td></tr><tr><td>dbfs:/mnt/datalake4b6c87c48101c278/landing-zone/orders_202506062219.csv</td><td>orders_202506062219.csv</td><td>18738950</td><td>1749270377000</td></tr><tr><td>dbfs:/mnt/datalake4b6c87c48101c278/landing-zone/product_category_name_translation_202506062219.csv</td><td>product_category_name_translation_202506062219.csv</td><td>2616</td><td>1749270358000</td></tr><tr><td>dbfs:/mnt/datalake4b6c87c48101c278/landing-zone/products_202506062219.csv</td><td>products_202506062219.csv</td><td>2870036</td><td>1749270366000</td></tr><tr><td>dbfs:/mnt/datalake4b6c87c48101c278/landing-zone/sellers_202506062219.csv</td><td>sellers_202506062219.csv</td><td>170582</td><td>1749270360000</td></tr></tbody></table></div>"
      ]
     },
     "metadata": {
      "application/vnd.databricks.v1+output": {
       "addedWidgets": {},
       "aggData": [],
       "aggError": "",
       "aggOverflow": false,
       "aggSchema": [],
       "aggSeriesLimitReached": false,
       "aggType": "",
       "arguments": {},
       "columnCustomDisplayInfos": {},
       "data": [
        [
         "dbfs:/mnt/datalake4b6c87c48101c278/landing-zone/customers_202506062219.csv",
         "customers_202506062219.csv",
         8910522,
         1749270372000
        ],
        [
         "dbfs:/mnt/datalake4b6c87c48101c278/landing-zone/geolocation_202506062219.csv",
         "geolocation_202506062219.csv",
         59657432,
         1749270426000
        ],
        [
         "dbfs:/mnt/datalake4b6c87c48101c278/landing-zone/leads_closed_202506062219.csv",
         "leads_closed_202506062219.csv",
         178083,
         1749270369000
        ],
        [
         "dbfs:/mnt/datalake4b6c87c48101c278/landing-zone/leads_qualified_202506062219.csv",
         "leads_qualified_202506062219.csv",
         747223,
         1749270369000
        ],
        [
         "dbfs:/mnt/datalake4b6c87c48101c278/landing-zone/order_items_202506062219.csv",
         "order_items_202506062219.csv",
         15680605,
         1749270362000
        ],
        [
         "dbfs:/mnt/datalake4b6c87c48101c278/landing-zone/order_payments_202506062219.csv",
         "order_payments_202506062219.csv",
         5866607,
         1749270360000
        ],
        [
         "dbfs:/mnt/datalake4b6c87c48101c278/landing-zone/order_reviews_202506062219.csv",
         "order_reviews_202506062219.csv",
         14700106,
         1749270374000
        ],
        [
         "dbfs:/mnt/datalake4b6c87c48101c278/landing-zone/orders_202506062219.csv",
         "orders_202506062219.csv",
         18738950,
         1749270377000
        ],
        [
         "dbfs:/mnt/datalake4b6c87c48101c278/landing-zone/product_category_name_translation_202506062219.csv",
         "product_category_name_translation_202506062219.csv",
         2616,
         1749270358000
        ],
        [
         "dbfs:/mnt/datalake4b6c87c48101c278/landing-zone/products_202506062219.csv",
         "products_202506062219.csv",
         2870036,
         1749270366000
        ],
        [
         "dbfs:/mnt/datalake4b6c87c48101c278/landing-zone/sellers_202506062219.csv",
         "sellers_202506062219.csv",
         170582,
         1749270360000
        ]
       ],
       "datasetInfos": [],
       "dbfsResultPath": null,
       "isJsonSchema": true,
       "metadata": {},
       "overflow": false,
       "plotOptions": {
        "customPlotOptions": {},
        "displayType": "table",
        "pivotAggregation": null,
        "pivotColumns": null,
        "xColumns": null,
        "yColumns": null
       },
       "removedWidgets": [],
       "schema": [
        {
         "metadata": "{}",
         "name": "path",
         "type": "\"string\""
        },
        {
         "metadata": "{}",
         "name": "name",
         "type": "\"string\""
        },
        {
         "metadata": "{}",
         "name": "size",
         "type": "\"long\""
        },
        {
         "metadata": "{}",
         "name": "modificationTime",
         "type": "\"long\""
        }
       ],
       "type": "table"
      }
     },
     "output_type": "display_data"
    }
   ],
   "source": [
    "display(dbutils.fs.ls(f\"/mnt/{storageAccountName}/landing-zone\"))"
   ]
  },
  {
   "cell_type": "markdown",
   "metadata": {
    "application/vnd.databricks.v1+cell": {
     "cellMetadata": {
      "byteLimit": 2048000,
      "rowLimit": 10000
     },
     "inputWidgets": {},
     "nuid": "1ef3c883-3b0f-44cb-8917-49f1f1fd3819",
     "showTitle": false,
     "tableResultSettingsMap": {},
     "title": ""
    }
   },
   "source": [
    "###Gerando um dataframe para cada arquivo a partir dos arquivos CSV gravado no container landing-zone do Azure Data Lake Storage"
   ]
  },
  {
   "cell_type": "code",
   "execution_count": 0,
   "metadata": {
    "application/vnd.databricks.v1+cell": {
     "cellMetadata": {
      "byteLimit": 2048000,
      "rowLimit": 10000
     },
     "inputWidgets": {},
     "nuid": "37774595-e2cd-4ba0-92aa-4a6f239c0e7b",
     "showTitle": false,
     "tableResultSettingsMap": {},
     "title": ""
    }
   },
   "outputs": [],
   "source": [
    "df_customers   = spark.read.option(\"infeschema\", \"true\").option(\"header\", \"true\").csv(f\"/mnt/{storageAccountName}/landing-zone/customers_202506062219.csv\")\n",
    "df_geolocation = spark.read.option(\"infeschema\", \"true\").option(\"header\", \"true\").csv(f\"/mnt/{storageAccountName}/landing-zone/geolocation_202506062219.csv\")\n",
    "df_leads_closed  = spark.read.option(\"infeschema\", \"true\").option(\"header\", \"true\").csv(f\"/mnt/{storageAccountName}/landing-zone/leads_closed_202506062219.csv\")\n",
    "df_leads_qualified  = spark.read.option(\"infeschema\", \"true\").option(\"header\", \"true\").csv(f\"/mnt/{storageAccountName}/landing-zone/leads_qualified_202506062219.csv\")\n",
    "df_order_items = spark.read.option(\"infeschema\", \"true\").option(\"header\", \"true\").csv(f\"/mnt/{storageAccountName}/landing-zone/order_items_202506062219.csv\")\n",
    "df_order_payments  = spark.read.option(\"infeschema\", \"true\").option(\"header\", \"true\").csv(f\"/mnt/{storageAccountName}/landing-zone/order_payments_202506062219.csv\")\n",
    "df_order_reviews = spark.read.option(\"infeschema\", \"true\").option(\"header\", \"true\").csv(f\"/mnt/{storageAccountName}/landing-zone/order_reviews_202506062219.csv\")\n",
    "df_orders = spark.read.option(\"infeschema\", \"true\").option(\"header\", \"true\").csv(f\"/mnt/{storageAccountName}/landing-zone/orders_202506062219.csv\")\n",
    "df_product_category_name_translation = spark.read.option(\"infeschema\", \"true\").option(\"header\", \"true\").csv(f\"/mnt/{storageAccountName}/landing-zone/product_category_name_translation_202506062219.csv\")\n",
    "df_products = spark.read.option(\"infeschema\", \"true\").option(\"header\", \"true\").csv(f\"/mnt/{storageAccountName}/landing-zone/products_202506062219.csv\")\n",
    "df_sellers = spark.read.option(\"infeschema\", \"true\").option(\"header\", \"true\").csv(f\"/mnt/{storageAccountName}/landing-zone/sellers_202506062219.csv\")\n"
   ]
  },
  {
   "cell_type": "markdown",
   "metadata": {
    "application/vnd.databricks.v1+cell": {
     "cellMetadata": {
      "byteLimit": 2048000,
      "rowLimit": 10000
     },
     "inputWidgets": {},
     "nuid": "e4ffc23f-8add-4747-b572-b470a7e5eb8f",
     "showTitle": false,
     "tableResultSettingsMap": {},
     "title": ""
    }
   },
   "source": [
    "### Adicionando metadados de data e hora de processamento e nome do arquivo de origem"
   ]
  },
  {
   "cell_type": "code",
   "execution_count": 0,
   "metadata": {
    "application/vnd.databricks.v1+cell": {
     "cellMetadata": {
      "byteLimit": 2048000,
      "rowLimit": 10000
     },
     "inputWidgets": {},
     "nuid": "f278962e-c91a-4900-ba19-27d9b9e08947",
     "showTitle": false,
     "tableResultSettingsMap": {},
     "title": ""
    }
   },
   "outputs": [],
   "source": [
    "from pyspark.sql.functions import current_timestamp, lit\n",
    "\n",
    "df_customers = df_customers.withColumn(\"data_hora_bronze\", current_timestamp()).withColumn(\"nome_arquivo\", lit(\"customers_202506062219.csv\"))\n",
    "df_geolocation = df_geolocation.withColumn(\"data_hora_bronze\", current_timestamp()).withColumn(\"nome_arquivo\", lit(\"geolocation_202506062219.csv\"))\n",
    "df_leads_closed = df_leads_closed.withColumn(\"data_hora_bronze\", current_timestamp()).withColumn(\"nome_arquivo\", lit(\"leads_closed_202506062219.csv\"))\n",
    "df_leads_qualified = df_leads_qualified.withColumn(\"data_hora_bronze\", current_timestamp()).withColumn(\"nome_arquivo\", lit(\"leads_qualified_202506062219.csv\"))\n",
    "df_order_items = df_order_items.withColumn(\"data_hora_bronze\", current_timestamp()).withColumn(\"nome_arquivo\", lit(\"order_items_202506062219.csv\"))\n",
    "df_order_payments = df_order_payments.withColumn(\"data_hora_bronze\", current_timestamp()).withColumn(\"nome_arquivo\", lit(\"order_payments_202506062219.csv\"))\n",
    "df_order_reviews = df_order_reviews.withColumn(\"data_hora_bronze\", current_timestamp()).withColumn(\"nome_arquivo\", lit(\"order_reviews_202506062219.csv\"))\n",
    "df_orders = df_orders.withColumn(\"data_hora_bronze\", current_timestamp()).withColumn(\"nome_arquivo\", lit(\"orders_202506062219.csv\"))\n",
    "df_product_category_name_translation = df_product_category_name_translation.withColumn(\"data_hora_bronze\", current_timestamp()).withColumn(\"nome_arquivo\", lit(\"product_category_name_translation_202506062219.csv\"))\n",
    "df_products = df_products.withColumn(\"data_hora_bronze\", current_timestamp()).withColumn(\"nome_arquivo\", lit(\"products_202506062219.csv\"))\n",
    "df_sellers = df_sellers.withColumn(\"data_hora_bronze\", current_timestamp()).withColumn(\"nome_arquivo\", lit(\"sellers_202506062219.csv\"))\n"
   ]
  },
  {
   "cell_type": "markdown",
   "metadata": {
    "application/vnd.databricks.v1+cell": {
     "cellMetadata": {
      "byteLimit": 2048000,
      "rowLimit": 10000
     },
     "inputWidgets": {},
     "nuid": "8d908b82-ff93-4bb6-af69-ec5655308a8f",
     "showTitle": false,
     "tableResultSettingsMap": {},
     "title": ""
    }
   },
   "source": [
    "###Salvando os dataframes em delta lake (formato de arquivo) no data lake (repositorio cloud)"
   ]
  },
  {
   "cell_type": "code",
   "execution_count": 0,
   "metadata": {
    "application/vnd.databricks.v1+cell": {
     "cellMetadata": {
      "byteLimit": 2048000,
      "rowLimit": 10000
     },
     "inputWidgets": {},
     "nuid": "bb02cf44-9572-4ee1-8830-c3671012ec49",
     "showTitle": false,
     "tableResultSettingsMap": {},
     "title": ""
    }
   },
   "outputs": [],
   "source": [
    "df_customers.write.format('delta').save(f\"/mnt/{storageAccountName}/bronze/customers\")\n",
    "df_geolocation.write.format('delta').save(f\"/mnt/{storageAccountName}/bronze/geolocation\")\n",
    "df_leads_closed.write.format('delta').save(f\"/mnt/{storageAccountName}/bronze/leads_closed\")\n",
    "df_leads_qualified.write.format('delta').save(f\"/mnt/{storageAccountName}/bronze/leads_qualified\")\n",
    "df_order_items.write.format('delta').save(f\"/mnt/{storageAccountName}/bronze/order_items\")\n",
    "df_order_payments.write.format('delta').save(f\"/mnt/{storageAccountName}/bronze/order_payments\")\n",
    "df_order_reviews.write.format('delta').save(f\"/mnt/{storageAccountName}/bronze/order_reviews\")\n",
    "df_orders.write.format('delta').save(f\"/mnt/{storageAccountName}/bronze/orders\")\n",
    "df_product_category_name_translation.write.format('delta').save(f\"/mnt/{storageAccountName}/bronze/product_category_name_translation\")\n",
    "df_products.write.format('delta').save(f\"/mnt/{storageAccountName}/bronze/products\")\n",
    "df_sellers.write.format('delta').save(f\"/mnt/{storageAccountName}/bronze/sellers\")"
   ]
  },
  {
   "cell_type": "markdown",
   "metadata": {
    "application/vnd.databricks.v1+cell": {
     "cellMetadata": {
      "byteLimit": 2048000,
      "rowLimit": 10000
     },
     "inputWidgets": {},
     "nuid": "511bb1d8-ea04-4a9c-93c4-6b8228f00830",
     "showTitle": false,
     "tableResultSettingsMap": {},
     "title": ""
    }
   },
   "source": [
    "###Verificando os dados gravados em delta na camada bronze"
   ]
  },
  {
   "cell_type": "code",
   "execution_count": 0,
   "metadata": {
    "application/vnd.databricks.v1+cell": {
     "cellMetadata": {
      "byteLimit": 2048000,
      "implicitDf": true,
      "rowLimit": 10000
     },
     "inputWidgets": {},
     "nuid": "6e8454d0-a9de-40dc-b55d-a8aa0156f93f",
     "showTitle": false,
     "tableResultSettingsMap": {},
     "title": ""
    }
   },
   "outputs": [
    {
     "output_type": "display_data",
     "data": {
      "text/html": [
       "<style scoped>\n",
       "  .table-result-container {\n",
       "    max-height: 300px;\n",
       "    overflow: auto;\n",
       "  }\n",
       "  table, th, td {\n",
       "    border: 1px solid black;\n",
       "    border-collapse: collapse;\n",
       "  }\n",
       "  th, td {\n",
       "    padding: 5px;\n",
       "  }\n",
       "  th {\n",
       "    text-align: left;\n",
       "  }\n",
       "</style><div class='table-result-container'><table class='table-result'><thead style='background-color: white'><tr><th>path</th><th>name</th><th>size</th><th>modificationTime</th></tr></thead><tbody><tr><td>dbfs:/mnt/datalake4b6c87c48101c278/bronze/customers/</td><td>customers/</td><td>0</td><td>0</td></tr><tr><td>dbfs:/mnt/datalake4b6c87c48101c278/bronze/geolocation/</td><td>geolocation/</td><td>0</td><td>0</td></tr><tr><td>dbfs:/mnt/datalake4b6c87c48101c278/bronze/leads_closed/</td><td>leads_closed/</td><td>0</td><td>0</td></tr><tr><td>dbfs:/mnt/datalake4b6c87c48101c278/bronze/leads_qualified/</td><td>leads_qualified/</td><td>0</td><td>0</td></tr><tr><td>dbfs:/mnt/datalake4b6c87c48101c278/bronze/order_items/</td><td>order_items/</td><td>0</td><td>0</td></tr><tr><td>dbfs:/mnt/datalake4b6c87c48101c278/bronze/order_payments/</td><td>order_payments/</td><td>0</td><td>0</td></tr><tr><td>dbfs:/mnt/datalake4b6c87c48101c278/bronze/order_reviews/</td><td>order_reviews/</td><td>0</td><td>0</td></tr><tr><td>dbfs:/mnt/datalake4b6c87c48101c278/bronze/orders/</td><td>orders/</td><td>0</td><td>0</td></tr><tr><td>dbfs:/mnt/datalake4b6c87c48101c278/bronze/product_category_name_translation/</td><td>product_category_name_translation/</td><td>0</td><td>0</td></tr><tr><td>dbfs:/mnt/datalake4b6c87c48101c278/bronze/products/</td><td>products/</td><td>0</td><td>0</td></tr><tr><td>dbfs:/mnt/datalake4b6c87c48101c278/bronze/sellers/</td><td>sellers/</td><td>0</td><td>0</td></tr></tbody></table></div>"
      ]
     },
     "metadata": {
      "application/vnd.databricks.v1+output": {
       "addedWidgets": {},
       "aggData": [],
       "aggError": "",
       "aggOverflow": false,
       "aggSchema": [],
       "aggSeriesLimitReached": false,
       "aggType": "",
       "arguments": {},
       "columnCustomDisplayInfos": {},
       "data": [
        [
         "dbfs:/mnt/datalake4b6c87c48101c278/bronze/customers/",
         "customers/",
         0,
         0
        ],
        [
         "dbfs:/mnt/datalake4b6c87c48101c278/bronze/geolocation/",
         "geolocation/",
         0,
         0
        ],
        [
         "dbfs:/mnt/datalake4b6c87c48101c278/bronze/leads_closed/",
         "leads_closed/",
         0,
         0
        ],
        [
         "dbfs:/mnt/datalake4b6c87c48101c278/bronze/leads_qualified/",
         "leads_qualified/",
         0,
         0
        ],
        [
         "dbfs:/mnt/datalake4b6c87c48101c278/bronze/order_items/",
         "order_items/",
         0,
         0
        ],
        [
         "dbfs:/mnt/datalake4b6c87c48101c278/bronze/order_payments/",
         "order_payments/",
         0,
         0
        ],
        [
         "dbfs:/mnt/datalake4b6c87c48101c278/bronze/order_reviews/",
         "order_reviews/",
         0,
         0
        ],
        [
         "dbfs:/mnt/datalake4b6c87c48101c278/bronze/orders/",
         "orders/",
         0,
         0
        ],
        [
         "dbfs:/mnt/datalake4b6c87c48101c278/bronze/product_category_name_translation/",
         "product_category_name_translation/",
         0,
         0
        ],
        [
         "dbfs:/mnt/datalake4b6c87c48101c278/bronze/products/",
         "products/",
         0,
         0
        ],
        [
         "dbfs:/mnt/datalake4b6c87c48101c278/bronze/sellers/",
         "sellers/",
         0,
         0
        ]
       ],
       "datasetInfos": [],
       "dbfsResultPath": null,
       "isJsonSchema": true,
       "metadata": {},
       "overflow": false,
       "plotOptions": {
        "customPlotOptions": {},
        "displayType": "table",
        "pivotAggregation": null,
        "pivotColumns": null,
        "xColumns": null,
        "yColumns": null
       },
       "removedWidgets": [],
       "schema": [
        {
         "metadata": "{}",
         "name": "path",
         "type": "\"string\""
        },
        {
         "metadata": "{}",
         "name": "name",
         "type": "\"string\""
        },
        {
         "metadata": "{}",
         "name": "size",
         "type": "\"long\""
        },
        {
         "metadata": "{}",
         "name": "modificationTime",
         "type": "\"long\""
        }
       ],
       "type": "table"
      }
     },
     "output_type": "display_data"
    }
   ],
   "source": [
    "display(dbutils.fs.ls(f\"/mnt/{storageAccountName}/bronze/\"))"
   ]
  },
  {
   "cell_type": "markdown",
   "metadata": {
    "application/vnd.databricks.v1+cell": {
     "cellMetadata": {
      "byteLimit": 2048000,
      "rowLimit": 10000
     },
     "inputWidgets": {},
     "nuid": "f6393fa5-64f2-4e8d-8358-617d0b55f035",
     "showTitle": false,
     "tableResultSettingsMap": {},
     "title": ""
    }
   },
   "source": [
    "### Lendo um exemplo de um delta lake para validar a existencia dos dados e das colunas do metadados"
   ]
  },
  {
   "cell_type": "code",
   "execution_count": 0,
   "metadata": {
    "application/vnd.databricks.v1+cell": {
     "cellMetadata": {
      "byteLimit": 2048000,
      "implicitDf": true,
      "rowLimit": 10000
     },
     "inputWidgets": {},
     "nuid": "84ef9829-3e0e-4807-bc1b-026324f6ed82",
     "showTitle": false,
     "tableResultSettingsMap": {},
     "title": ""
    }
   },
   "outputs": [
    {
     "output_type": "display_data",
     "data": {
      "text/html": [
       "<style scoped>\n",
       "  .table-result-container {\n",
       "    max-height: 300px;\n",
       "    overflow: auto;\n",
       "  }\n",
       "  table, th, td {\n",
       "    border: 1px solid black;\n",
       "    border-collapse: collapse;\n",
       "  }\n",
       "  th, td {\n",
       "    padding: 5px;\n",
       "  }\n",
       "  th {\n",
       "    text-align: left;\n",
       "  }\n",
       "</style><div class='table-result-container'><table class='table-result'><thead style='background-color: white'><tr><th>product_id</th><th>product_category_name</th><th>product_name_lenght</th><th>product_description_lenght</th><th>product_photos_qty</th><th>product_weight_g</th><th>product_length_cm</th><th>product_height_cm</th><th>product_width_cm</th><th>data_hora_bronze</th><th>nome_arquivo</th></tr></thead><tbody><tr><td>1e9e8ef04dbcff4541ed26657ea517e5</td><td>perfumaria</td><td>40.0</td><td>287.0</td><td>1.0</td><td>225.0</td><td>16.0</td><td>10.0</td><td>14.0</td><td>2025-06-07T04:29:29.911+0000</td><td>products_202506062219.csv</td></tr><tr><td>3aa071139cb16b67ca9e5dea641aaa2f</td><td>artes</td><td>44.0</td><td>276.0</td><td>1.0</td><td>1000.0</td><td>30.0</td><td>18.0</td><td>20.0</td><td>2025-06-07T04:29:29.911+0000</td><td>products_202506062219.csv</td></tr><tr><td>96bd76ec8810374ed1b65e291975717f</td><td>esporte_lazer</td><td>46.0</td><td>250.0</td><td>1.0</td><td>154.0</td><td>18.0</td><td>9.0</td><td>15.0</td><td>2025-06-07T04:29:29.911+0000</td><td>products_202506062219.csv</td></tr><tr><td>cef67bcfe19066a932b7673e239eb23d</td><td>bebes</td><td>27.0</td><td>261.0</td><td>1.0</td><td>371.0</td><td>26.0</td><td>4.0</td><td>26.0</td><td>2025-06-07T04:29:29.911+0000</td><td>products_202506062219.csv</td></tr><tr><td>9dc1a7de274444849c219cff195d0b71</td><td>utilidades_domesticas</td><td>37.0</td><td>402.0</td><td>4.0</td><td>625.0</td><td>20.0</td><td>17.0</td><td>13.0</td><td>2025-06-07T04:29:29.911+0000</td><td>products_202506062219.csv</td></tr><tr><td>41d3672d4792049fa1779bb35283ed13</td><td>instrumentos_musicais</td><td>60.0</td><td>745.0</td><td>1.0</td><td>200.0</td><td>38.0</td><td>5.0</td><td>11.0</td><td>2025-06-07T04:29:29.911+0000</td><td>products_202506062219.csv</td></tr><tr><td>732bd381ad09e530fe0a5f457d81becb</td><td>cool_stuff</td><td>56.0</td><td>1272.0</td><td>4.0</td><td>18350.0</td><td>70.0</td><td>24.0</td><td>44.0</td><td>2025-06-07T04:29:29.911+0000</td><td>products_202506062219.csv</td></tr><tr><td>2548af3e6e77a690cf3eb6368e9ab61e</td><td>moveis_decoracao</td><td>56.0</td><td>184.0</td><td>2.0</td><td>900.0</td><td>40.0</td><td>8.0</td><td>40.0</td><td>2025-06-07T04:29:29.911+0000</td><td>products_202506062219.csv</td></tr><tr><td>37cc742be07708b53a98702e77a21a02</td><td>eletrodomesticos</td><td>57.0</td><td>163.0</td><td>1.0</td><td>400.0</td><td>27.0</td><td>13.0</td><td>17.0</td><td>2025-06-07T04:29:29.911+0000</td><td>products_202506062219.csv</td></tr><tr><td>8c92109888e8cdf9d66dc7e463025574</td><td>brinquedos</td><td>36.0</td><td>1156.0</td><td>1.0</td><td>600.0</td><td>17.0</td><td>10.0</td><td>12.0</td><td>2025-06-07T04:29:29.911+0000</td><td>products_202506062219.csv</td></tr></tbody></table></div>"
      ]
     },
     "metadata": {
      "application/vnd.databricks.v1+output": {
       "addedWidgets": {},
       "aggData": [],
       "aggError": "",
       "aggOverflow": false,
       "aggSchema": [],
       "aggSeriesLimitReached": false,
       "aggType": "",
       "arguments": {},
       "columnCustomDisplayInfos": {},
       "data": [
        [
         "1e9e8ef04dbcff4541ed26657ea517e5",
         "perfumaria",
         "40.0",
         "287.0",
         "1.0",
         "225.0",
         "16.0",
         "10.0",
         "14.0",
         "2025-06-07T04:29:29.911+0000",
         "products_202506062219.csv"
        ],
        [
         "3aa071139cb16b67ca9e5dea641aaa2f",
         "artes",
         "44.0",
         "276.0",
         "1.0",
         "1000.0",
         "30.0",
         "18.0",
         "20.0",
         "2025-06-07T04:29:29.911+0000",
         "products_202506062219.csv"
        ],
        [
         "96bd76ec8810374ed1b65e291975717f",
         "esporte_lazer",
         "46.0",
         "250.0",
         "1.0",
         "154.0",
         "18.0",
         "9.0",
         "15.0",
         "2025-06-07T04:29:29.911+0000",
         "products_202506062219.csv"
        ],
        [
         "cef67bcfe19066a932b7673e239eb23d",
         "bebes",
         "27.0",
         "261.0",
         "1.0",
         "371.0",
         "26.0",
         "4.0",
         "26.0",
         "2025-06-07T04:29:29.911+0000",
         "products_202506062219.csv"
        ],
        [
         "9dc1a7de274444849c219cff195d0b71",
         "utilidades_domesticas",
         "37.0",
         "402.0",
         "4.0",
         "625.0",
         "20.0",
         "17.0",
         "13.0",
         "2025-06-07T04:29:29.911+0000",
         "products_202506062219.csv"
        ],
        [
         "41d3672d4792049fa1779bb35283ed13",
         "instrumentos_musicais",
         "60.0",
         "745.0",
         "1.0",
         "200.0",
         "38.0",
         "5.0",
         "11.0",
         "2025-06-07T04:29:29.911+0000",
         "products_202506062219.csv"
        ],
        [
         "732bd381ad09e530fe0a5f457d81becb",
         "cool_stuff",
         "56.0",
         "1272.0",
         "4.0",
         "18350.0",
         "70.0",
         "24.0",
         "44.0",
         "2025-06-07T04:29:29.911+0000",
         "products_202506062219.csv"
        ],
        [
         "2548af3e6e77a690cf3eb6368e9ab61e",
         "moveis_decoracao",
         "56.0",
         "184.0",
         "2.0",
         "900.0",
         "40.0",
         "8.0",
         "40.0",
         "2025-06-07T04:29:29.911+0000",
         "products_202506062219.csv"
        ],
        [
         "37cc742be07708b53a98702e77a21a02",
         "eletrodomesticos",
         "57.0",
         "163.0",
         "1.0",
         "400.0",
         "27.0",
         "13.0",
         "17.0",
         "2025-06-07T04:29:29.911+0000",
         "products_202506062219.csv"
        ],
        [
         "8c92109888e8cdf9d66dc7e463025574",
         "brinquedos",
         "36.0",
         "1156.0",
         "1.0",
         "600.0",
         "17.0",
         "10.0",
         "12.0",
         "2025-06-07T04:29:29.911+0000",
         "products_202506062219.csv"
        ]
       ],
       "datasetInfos": [],
       "dbfsResultPath": null,
       "isJsonSchema": true,
       "metadata": {},
       "overflow": false,
       "plotOptions": {
        "customPlotOptions": {},
        "displayType": "table",
        "pivotAggregation": null,
        "pivotColumns": null,
        "xColumns": null,
        "yColumns": null
       },
       "removedWidgets": [],
       "schema": [
        {
         "metadata": "{}",
         "name": "product_id",
         "type": "\"string\""
        },
        {
         "metadata": "{}",
         "name": "product_category_name",
         "type": "\"string\""
        },
        {
         "metadata": "{}",
         "name": "product_name_lenght",
         "type": "\"string\""
        },
        {
         "metadata": "{}",
         "name": "product_description_lenght",
         "type": "\"string\""
        },
        {
         "metadata": "{}",
         "name": "product_photos_qty",
         "type": "\"string\""
        },
        {
         "metadata": "{}",
         "name": "product_weight_g",
         "type": "\"string\""
        },
        {
         "metadata": "{}",
         "name": "product_length_cm",
         "type": "\"string\""
        },
        {
         "metadata": "{}",
         "name": "product_height_cm",
         "type": "\"string\""
        },
        {
         "metadata": "{}",
         "name": "product_width_cm",
         "type": "\"string\""
        },
        {
         "metadata": "{}",
         "name": "data_hora_bronze",
         "type": "\"timestamp\""
        },
        {
         "metadata": "{}",
         "name": "nome_arquivo",
         "type": "\"string\""
        }
       ],
       "type": "table"
      }
     },
     "output_type": "display_data"
    }
   ],
   "source": [
    "spark.read.format('delta').load(f'/mnt/{storageAccountName}/bronze/products').limit(10).display()"
   ]
  }
 ],
 "metadata": {
  "application/vnd.databricks.v1+notebook": {
   "computePreferences": null,
   "dashboards": [],
   "environmentMetadata": null,
   "inputWidgetPreferences": null,
   "language": "python",
   "notebookMetadata": {
    "mostRecentlyExecutedCommandWithImplicitDF": {
     "commandId": 3210653005600686,
     "dataframes": [
      "_sqldf"
     ]
    },
    "pythonIndentUnit": 4
   },
   "notebookName": "Atividade Pratica - Lakehouse - Bronze",
   "widgets": {}
  }
 },
 "nbformat": 4,
 "nbformat_minor": 0
}